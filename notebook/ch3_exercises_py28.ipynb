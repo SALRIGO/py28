{
  "nbformat": 4,
  "nbformat_minor": 0,
  "metadata": {
    "colab": {
      "name": "ch3_exercises_py28.ipynb",
      "provenance": [],
      "collapsed_sections": [],
      "include_colab_link": true
    },
    "kernelspec": {
      "name": "python3",
      "display_name": "Python 3"
    }
  },
  "cells": [
    {
      "cell_type": "markdown",
      "metadata": {
        "id": "view-in-github",
        "colab_type": "text"
      },
      "source": [
        "<a href=\"https://colab.research.google.com/github/SALRIGO/py28/blob/master/notebook/ch3_exercises_py28.ipynb\" target=\"_parent\"><img src=\"https://colab.research.google.com/assets/colab-badge.svg\" alt=\"Open In Colab\"/></a>"
      ]
    },
    {
      "cell_type": "markdown",
      "metadata": {
        "id": "ovY5jkD5dpxE",
        "colab_type": "text"
      },
      "source": [
        "## ch3_exercises_py28.ipynb"
      ]
    },
    {
      "cell_type": "markdown",
      "metadata": {
        "id": "SZw6UnxQWYBe",
        "colab_type": "text"
      },
      "source": [
        "## Q1.\n",
        "> 다음 코드의 결과값은 무엇일까?\n",
        "\n",
        "```\n",
        "a = \"Life is too short, you need python\"\n",
        "if \"wife\" in a: print(\"wife\")\n",
        "elif \"python\" in a and \"you\" not in a: print(\"python\")\n",
        "elif \"shirt\" not in a: print(\"shirt\")\n",
        "elif \"need\" in a: print(\"need\")\n",
        "else: print(\"none\")\n",
        "\n",
        "```"
      ]
    },
    {
      "cell_type": "code",
      "metadata": {
        "id": "rUNNaqJPdg7B",
        "colab_type": "code",
        "colab": {
          "base_uri": "https://localhost:8080/",
          "height": 35
        },
        "outputId": "74ae9c9c-4f2e-4746-af54-43b0adaf2db9"
      },
      "source": [
        "# [Q1] Code  \n",
        "a = \"Life is too short, you need python\"\n",
        "if \"wife\" in a: print(\"wife\")                          # 만일 \"wife\"가 a안에 포함될경우 wife출력(False)\n",
        "elif \"python\" in a and \"you\" not in a: print(\"python\") # 만일 \"python\"이 a안에 포함되어있고 you가 포함되지 않을경우 python출력(False)\n",
        "elif \"shirt\" not in a: print(\"shirt\")                  # 만일 \"shirt\"가 a안에 포함되지 않을 경우 shirt출력 (True 출력O)\n",
        "elif \"need\" in a: print(\"need\")                        # 만일 \"need\"가 a에 포함될경우 need출력 (True지만 위의elif문에서 shirt이 출력되어서 출력X)\n",
        "else: print(\"none\")                                    # 위의 모든 사항이 해당되지 않을경우 none 출력\n"
      ],
      "execution_count": 172,
      "outputs": [
        {
          "output_type": "stream",
          "text": [
            "shirt\n"
          ],
          "name": "stdout"
        }
      ]
    },
    {
      "cell_type": "markdown",
      "metadata": {
        "colab_type": "text",
        "id": "re2-XrUYXF1m"
      },
      "source": [
        "## Q2.\n",
        "> while문을 사용해 1부터 1000까지의 자연수 중 3의 배수의 합을 구해 보자.\n"
      ]
    },
    {
      "cell_type": "code",
      "metadata": {
        "id": "VttL43c6iPP5",
        "colab_type": "code",
        "colab": {
          "base_uri": "https://localhost:8080/",
          "height": 35
        },
        "outputId": "e93c71b6-aa90-4233-fffe-157a8477c347"
      },
      "source": [
        "# [Q2] Code 1\n",
        "num = 0\n",
        "Sum = 0\n",
        "\n",
        "while num < 1000:\n",
        "   num = num + 1\n",
        "   if num % 3 == 0:\n",
        "       Sum = Sum + num\n",
        "print(\"1~1000의 숫자중 3의 배수의 합 = %d \"%Sum)"
      ],
      "execution_count": 173,
      "outputs": [
        {
          "output_type": "stream",
          "text": [
            "1~1000의 숫자중 3의 배수의 합 = 166833 \n"
          ],
          "name": "stdout"
        }
      ]
    },
    {
      "cell_type": "code",
      "metadata": {
        "colab_type": "code",
        "id": "5MBLUZ5WXF1q",
        "colab": {
          "base_uri": "https://localhost:8080/",
          "height": 35
        },
        "outputId": "b3b28e14-4130-4dfe-e768-72a7cbbcb8dd"
      },
      "source": [
        "# [Q2] Code 2\n",
        "num = 0\n",
        "product = 0\n",
        "Sum = 0\n",
        "while product < 999:\n",
        "   num = num + 1\n",
        "   product = num * 3\n",
        "   Sum += product\n",
        "print(\"1~1000의 숫자중 3의 배수의 합 = %d \"%Sum)"
      ],
      "execution_count": 174,
      "outputs": [
        {
          "output_type": "stream",
          "text": [
            "1~1000의 숫자중 3의 배수의 합 = 166833 \n"
          ],
          "name": "stdout"
        }
      ]
    },
    {
      "cell_type": "markdown",
      "metadata": {
        "colab_type": "text",
        "id": "UZy8lu_BXGnT"
      },
      "source": [
        "## Q3.\n",
        "> while문을 사용하여 다음과 같이 별(*)을 표시하는 프로그램을 작성해 보자.\n",
        "\n",
        "```\n",
        "*\n",
        "**\n",
        "***\n",
        "****\n",
        "*****\n",
        "\n",
        "```\n"
      ]
    },
    {
      "cell_type": "code",
      "metadata": {
        "colab_type": "code",
        "id": "H9T_sXHzXGnW",
        "colab": {
          "base_uri": "https://localhost:8080/",
          "height": 107
        },
        "outputId": "dc462315-b99f-469f-ed32-80115227488f"
      },
      "source": [
        "# [Q3] Code\n",
        "star = 0\n",
        "\n",
        "while star < 5:\n",
        "    star = star+1\n",
        "    print(\"*\" * star)"
      ],
      "execution_count": 175,
      "outputs": [
        {
          "output_type": "stream",
          "text": [
            "*\n",
            "**\n",
            "***\n",
            "****\n",
            "*****\n"
          ],
          "name": "stdout"
        }
      ]
    },
    {
      "cell_type": "markdown",
      "metadata": {
        "colab_type": "text",
        "id": "fqypxxqTXHY7"
      },
      "source": [
        "## Q4.\n",
        "> for문을 사용해 1부터 100까지의 숫자를 출력해 보자.\n",
        "- 단순 for문 사용\n",
        "- 리스트 내포 사용"
      ]
    },
    {
      "cell_type": "code",
      "metadata": {
        "colab_type": "code",
        "id": "oQ5UnmayXHY-",
        "colab": {
          "base_uri": "https://localhost:8080/",
          "height": 1000
        },
        "outputId": "35bb13b3-e51f-40fa-e46c-b418d978e24f"
      },
      "source": [
        "# [Q4] Code 단순 for문 사용\n",
        "for num in range(1,101):\n",
        "  print(num)"
      ],
      "execution_count": 176,
      "outputs": [
        {
          "output_type": "stream",
          "text": [
            "1\n",
            "2\n",
            "3\n",
            "4\n",
            "5\n",
            "6\n",
            "7\n",
            "8\n",
            "9\n",
            "10\n",
            "11\n",
            "12\n",
            "13\n",
            "14\n",
            "15\n",
            "16\n",
            "17\n",
            "18\n",
            "19\n",
            "20\n",
            "21\n",
            "22\n",
            "23\n",
            "24\n",
            "25\n",
            "26\n",
            "27\n",
            "28\n",
            "29\n",
            "30\n",
            "31\n",
            "32\n",
            "33\n",
            "34\n",
            "35\n",
            "36\n",
            "37\n",
            "38\n",
            "39\n",
            "40\n",
            "41\n",
            "42\n",
            "43\n",
            "44\n",
            "45\n",
            "46\n",
            "47\n",
            "48\n",
            "49\n",
            "50\n",
            "51\n",
            "52\n",
            "53\n",
            "54\n",
            "55\n",
            "56\n",
            "57\n",
            "58\n",
            "59\n",
            "60\n",
            "61\n",
            "62\n",
            "63\n",
            "64\n",
            "65\n",
            "66\n",
            "67\n",
            "68\n",
            "69\n",
            "70\n",
            "71\n",
            "72\n",
            "73\n",
            "74\n",
            "75\n",
            "76\n",
            "77\n",
            "78\n",
            "79\n",
            "80\n",
            "81\n",
            "82\n",
            "83\n",
            "84\n",
            "85\n",
            "86\n",
            "87\n",
            "88\n",
            "89\n",
            "90\n",
            "91\n",
            "92\n",
            "93\n",
            "94\n",
            "95\n",
            "96\n",
            "97\n",
            "98\n",
            "99\n",
            "100\n"
          ],
          "name": "stdout"
        }
      ]
    },
    {
      "cell_type": "code",
      "metadata": {
        "id": "7NHlY7UwuXOv",
        "colab_type": "code",
        "colab": {
          "base_uri": "https://localhost:8080/",
          "height": 55
        },
        "outputId": "3afb3de5-2ad7-4877-c3a1-5824b1f043ad"
      },
      "source": [
        "# [Q4] Code 리스트 내포 사용\n",
        "num = [i for i in range(1,101)]\n",
        "print(num)"
      ],
      "execution_count": 177,
      "outputs": [
        {
          "output_type": "stream",
          "text": [
            "[1, 2, 3, 4, 5, 6, 7, 8, 9, 10, 11, 12, 13, 14, 15, 16, 17, 18, 19, 20, 21, 22, 23, 24, 25, 26, 27, 28, 29, 30, 31, 32, 33, 34, 35, 36, 37, 38, 39, 40, 41, 42, 43, 44, 45, 46, 47, 48, 49, 50, 51, 52, 53, 54, 55, 56, 57, 58, 59, 60, 61, 62, 63, 64, 65, 66, 67, 68, 69, 70, 71, 72, 73, 74, 75, 76, 77, 78, 79, 80, 81, 82, 83, 84, 85, 86, 87, 88, 89, 90, 91, 92, 93, 94, 95, 96, 97, 98, 99, 100]\n"
          ],
          "name": "stdout"
        }
      ]
    },
    {
      "cell_type": "markdown",
      "metadata": {
        "colab_type": "text",
        "id": "NKsvciXZXIL-"
      },
      "source": [
        "## Q5.\n",
        "> A 학급에 총 10명의 학생이 있다. 이 학생들의 중간고사 점수는 다음과 같다.\n",
        "\n",
        "- [70, 60, 55, 75, 95, 90, 80, 80, 85, 100]\n",
        "\n",
        "- for문을 사용하여 A 학급의 평균 점수를 구해 보자."
      ]
    },
    {
      "cell_type": "code",
      "metadata": {
        "colab_type": "code",
        "id": "5MZQYOVjXIL_",
        "colab": {
          "base_uri": "https://localhost:8080/",
          "height": 35
        },
        "outputId": "cbc54703-70e2-4a59-dfe8-67394b29b0a6"
      },
      "source": [
        "# [Q5] Code 1a\n",
        "A = [70, 60, 55, 75, 95, 90, 80, 80, 85, 100]\n",
        "average = 0\n",
        "for grade in range(len(A)):\n",
        "  average += A[grade]/len(A)\n",
        "\n",
        "print(\"A학급의 평균은 %d 입니다.\"%average)"
      ],
      "execution_count": 178,
      "outputs": [
        {
          "output_type": "stream",
          "text": [
            "A학급의 평균은 79 입니다.\n"
          ],
          "name": "stdout"
        }
      ]
    },
    {
      "cell_type": "code",
      "metadata": {
        "id": "QMaDMCn7ytdt",
        "colab_type": "code",
        "colab": {
          "base_uri": "https://localhost:8080/",
          "height": 35
        },
        "outputId": "a47ec7ab-d8ad-4ff1-c8b3-a0c94db04fed"
      },
      "source": [
        "# [Q5] Code 1b\n",
        "A = [70, 60, 55, 75, 95, 90, 80, 80, 85, 100]\n",
        "Sum = 0\n",
        "for grade in A:\n",
        "  Sum += grade\n",
        "average = Sum/len(A)\n",
        "print(\"A학급의 평균은 %d 입니다.\"%average)"
      ],
      "execution_count": 180,
      "outputs": [
        {
          "output_type": "stream",
          "text": [
            "A학급의 평균은 79 입니다.\n"
          ],
          "name": "stdout"
        }
      ]
    },
    {
      "cell_type": "code",
      "metadata": {
        "id": "WmztcrT6Ud7X",
        "colab_type": "code",
        "colab": {
          "base_uri": "https://localhost:8080/",
          "height": 215
        },
        "outputId": "640d840f-578d-4dc2-b779-4189ad0a4af2"
      },
      "source": [
        "# [Q5] Code 2 for문과 input을 이용한 점수입력\n",
        "A=[]\n",
        "average=0\n",
        "for num in range(0,10):\n",
        "  A.append(input(\"학생{0}:\".format(num+1)))\n",
        "for num in range(len(A)):\n",
        "   average += int(A[num])/len(A)\n",
        "print(\"A학급의 평균은 %d 입니다.\"%average)"
      ],
      "execution_count": 183,
      "outputs": [
        {
          "output_type": "stream",
          "text": [
            "학생1:70\n",
            "학생2:60\n",
            "학생3:55\n",
            "학생4:75\n",
            "학생5:95\n",
            "학생6:90\n",
            "학생7:80\n",
            "학생8:80\n",
            "학생9:85\n",
            "학생10:100\n",
            "A학급의 평균은 79 입니다.\n"
          ],
          "name": "stdout"
        }
      ]
    },
    {
      "cell_type": "markdown",
      "metadata": {
        "colab_type": "text",
        "id": "-3KHtOOoXJBV"
      },
      "source": [
        "## Q6.\n",
        "> 리스트 중에서 홀수에만 2를 곱하여 저장하는 다음 코드가 있다.\n",
        "```\n",
        "numbers = [1, 2, 3, 4, 5, 6, 7, 8, 9]\n",
        "result = []\n",
        "for n in numbers:\n",
        "    if n % 2 == 1:\n",
        "        result.append(n*2)\n",
        "```\n",
        "\n",
        "- 위 코드를 리스트 내포(list comprehension)를 사용하여 표현해 보자."
      ]
    },
    {
      "cell_type": "code",
      "metadata": {
        "colab_type": "code",
        "id": "AjYR0lUaXJBa",
        "colab": {
          "base_uri": "https://localhost:8080/",
          "height": 35
        },
        "outputId": "0261e1e2-6f78-4b74-dd18-2222118f3e46"
      },
      "source": [
        "# [Q6] Code\n",
        "numbers = [1, 2, 3, 4, 5, 6, 7, 8, 9]\n",
        "result = [n*2 for n in numbers if n % 2 == 1]\n",
        "result"
      ],
      "execution_count": 186,
      "outputs": [
        {
          "output_type": "execute_result",
          "data": {
            "text/plain": [
              "[2, 6, 10, 14, 18]"
            ]
          },
          "metadata": {
            "tags": []
          },
          "execution_count": 186
        }
      ]
    },
    {
      "cell_type": "markdown",
      "metadata": {
        "colab_type": "text",
        "id": "YrS3b88QbmKo"
      },
      "source": [
        "## Q7.\n",
        "> ## [Challenge] 응용 코드 : 평균 성적을 구하시오.\n",
        "```\n",
        "subjects = ['파이썬', '영어', '수학', '물리']\n",
        "scores = [91, 67, 88, 75]\n",
        "```\n",
        "\n",
        "- 평균 성적을 세가지 이상의 방법으로 구하시오."
      ]
    },
    {
      "cell_type": "code",
      "metadata": {
        "colab_type": "code",
        "id": "Ll_2InMWbmKq",
        "colab": {
          "base_uri": "https://localhost:8080/",
          "height": 107
        },
        "outputId": "f68242bf-c460-4efb-8c50-1b5bf86a4400"
      },
      "source": [
        "# [Q7] Code-1\n",
        "subjects = ['파이썬', '영어', '수학', '물리']\n",
        "scores = [91, 67, 88, 75]\n",
        "average = 0\n",
        "\n",
        "for num in range(len(scores)):\n",
        "  average += scores[num]/len(subjects)\n",
        "  print(subjects[num],scores[num])\n",
        "print(\"평균: %.2f\" %average)"
      ],
      "execution_count": 187,
      "outputs": [
        {
          "output_type": "stream",
          "text": [
            "파이썬 91\n",
            "영어 67\n",
            "수학 88\n",
            "물리 75\n",
            "평균: 80.25\n"
          ],
          "name": "stdout"
        }
      ]
    },
    {
      "cell_type": "code",
      "metadata": {
        "colab_type": "code",
        "id": "1Yl74HZQcWkw",
        "colab": {
          "base_uri": "https://localhost:8080/",
          "height": 107
        },
        "outputId": "0141f90a-6223-47f7-9236-ea635da1a880"
      },
      "source": [
        "# [Q7] Code-2 zip 활용\n",
        "subjects = ['파이썬', '영어', '수학', '물리']\n",
        "scores = [91, 67, 88, 75]\n",
        "\n",
        "Sum = 0\n",
        "average = 0\n",
        "for subject, score in zip(subjects, scores):\n",
        "     Sum += score\n",
        "     print(subject, score)\n",
        "print(\"평균: {0}\".format(Sum/len(subjects)))"
      ],
      "execution_count": 188,
      "outputs": [
        {
          "output_type": "stream",
          "text": [
            "파이썬 91\n",
            "영어 67\n",
            "수학 88\n",
            "물리 75\n",
            "평균: 80.25\n"
          ],
          "name": "stdout"
        }
      ]
    },
    {
      "cell_type": "code",
      "metadata": {
        "colab_type": "code",
        "id": "POKZZo1KcW0Q",
        "colab": {
          "base_uri": "https://localhost:8080/",
          "height": 107
        },
        "outputId": "572900f6-99f4-412f-cbfd-9815aab62704"
      },
      "source": [
        "# [Q7] Code-3 enumerate 활용\n",
        "subjects = ['파이썬', '영어', '수학', '물리']\n",
        "scores = [91, 67, 88, 75]\n",
        "average = 0\n",
        "for num, score in enumerate(scores):\n",
        "   print(subjects[num],score)\n",
        "   average += score/len(subjects)\n",
        "print(\"평균: {0}\".format(average))"
      ],
      "execution_count": 189,
      "outputs": [
        {
          "output_type": "stream",
          "text": [
            "파이썬 91\n",
            "영어 67\n",
            "수학 88\n",
            "물리 75\n",
            "평균: 80.25\n"
          ],
          "name": "stdout"
        }
      ]
    },
    {
      "cell_type": "code",
      "metadata": {
        "id": "bxHW05H_H-16",
        "colab_type": "code",
        "colab": {
          "base_uri": "https://localhost:8080/",
          "height": 107
        },
        "outputId": "4728424a-25bc-4ede-9938-43e736dd104a"
      },
      "source": [
        "# [Q7] Code-4 while 활용\n",
        "subjects = ['파이썬', '영어', '수학', '물리']\n",
        "scores = [91, 67, 88, 75]\n",
        "num = 0\n",
        "average = 0\n",
        "\n",
        "while num < len(subjects):\n",
        "   average += scores[num]/len(subjects)\n",
        "   print(subjects[num], scores[num])\n",
        "   num += 1\n",
        "print(\"평균: {0}\".format(average))   "
      ],
      "execution_count": 131,
      "outputs": [
        {
          "output_type": "stream",
          "text": [
            "파이썬 91\n",
            "영어 67\n",
            "수학 88\n",
            "물리 75\n",
            "평균: 80.25\n"
          ],
          "name": "stdout"
        }
      ]
    },
    {
      "cell_type": "code",
      "metadata": {
        "id": "uyHNUahvMKZH",
        "colab_type": "code",
        "colab": {
          "base_uri": "https://localhost:8080/",
          "height": 107
        },
        "outputId": "ad69e343-38df-4812-f69a-5fe73129f955"
      },
      "source": [
        "# [Q7] Code-5a input을 이용한 성적입력\n",
        "scores = []\n",
        "scores.append(input(\"파이썬 점수:\"))\n",
        "scores.append(input(\"영어 점수:\"))\n",
        "scores.append(input(\"수학 점수:\"))\n",
        "scores.append(input(\"물리 점수:\"))\n",
        "average = 0\n",
        "for num in range(len(scores)):\n",
        "  average += int(scores[num])/len(scores)\n",
        "print(\"평균: {0}\".format(average))"
      ],
      "execution_count": 138,
      "outputs": [
        {
          "output_type": "stream",
          "text": [
            "파이썬 점수:91\n",
            "영어 점수:67\n",
            "수학 점수:88\n",
            "물리 점수:75\n",
            "평균: 80.25\n"
          ],
          "name": "stdout"
        }
      ]
    },
    {
      "cell_type": "code",
      "metadata": {
        "id": "o7x9XD7zZ121",
        "colab_type": "code",
        "colab": {
          "base_uri": "https://localhost:8080/",
          "height": 107
        },
        "outputId": "bea3d68d-2e69-4a79-f951-2ced3d69ba5b"
      },
      "source": [
        "# [Q7] Code-5b input을 이용한 성적입력(for문을 이용)\n",
        "subjects = ['파이썬', '영어', '수학', '물리']\n",
        "scores = []\n",
        "average = 0\n",
        "for num in range(0,4):\n",
        "  scores.append(input(\"%s 점수:\"%subjects[num]))\n",
        "for num in range(len(scores)):\n",
        "  average += int(scores[num])/len(scores)\n",
        "print(\"평균: {0}\".format(average))"
      ],
      "execution_count": 171,
      "outputs": [
        {
          "output_type": "stream",
          "text": [
            "파이썬 점수:91\n",
            "영어 점수:67\n",
            "수학 점수:88\n",
            "물리 점수:75\n",
            "평균: 80.25\n"
          ],
          "name": "stdout"
        }
      ]
    },
    {
      "cell_type": "code",
      "metadata": {
        "id": "hY0LDi6wQ1IP",
        "colab_type": "code",
        "colab": {
          "base_uri": "https://localhost:8080/",
          "height": 53
        },
        "outputId": "1397d4a5-cf40-46ae-cdfe-0bc376118c43"
      },
      "source": [
        "# [Q7] Code-6 dictionary 활용\n",
        "grade = {'파이썬':91, '영어':67, '수학':88, '물리':75}\n",
        "Sum = grade['파이썬']+grade['영어']+grade['수학']+grade['물리']\n",
        "average = Sum/len(grade)\n",
        "print(grade)\n",
        "print(\"평균: {0}\".format(average))"
      ],
      "execution_count": 141,
      "outputs": [
        {
          "output_type": "stream",
          "text": [
            "{'파이썬': 91, '영어': 67, '수학': 88, '물리': 75}\n",
            "평균: 80.25\n"
          ],
          "name": "stdout"
        }
      ]
    },
    {
      "cell_type": "markdown",
      "metadata": {
        "id": "2ljBDShkbqZO",
        "colab_type": "text"
      },
      "source": [
        "## 코딩 연습 결과를 github에 올리기\n",
        "> 완성된 ipython 노트북 파일을 각자의 github에 올리시오.\n",
        "\n",
        "- github 계정 만들기 (계정이 없는 학생)\n",
        "    1. github에 sign up (Google gmail 계정을 이용해서 만드시오.)\n",
        "- github에 노트 올리기\n",
        "    2. github에 각자의 id로 repo를 만드시오. (한번 만들면 계속 재사용)\n",
        "    3. github repo에 연습결과 노트를 올리시오.\n",
        "        - 제출노트: ch3_exercises_id.ipynb\n"
      ]
    },
    {
      "cell_type": "code",
      "metadata": {
        "id": "OnCR-YNCc8B6",
        "colab_type": "code",
        "colab": {}
      },
      "source": [
        ""
      ],
      "execution_count": 0,
      "outputs": []
    }
  ]
}