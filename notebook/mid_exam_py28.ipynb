{
  "nbformat": 4,
  "nbformat_minor": 0,
  "metadata": {
    "colab": {
      "name": "mid_exam_py28.ipynb",
      "provenance": [],
      "collapsed_sections": [],
      "authorship_tag": "ABX9TyOXujTqnw5leDlxrZvunCOv",
      "include_colab_link": true
    },
    "kernelspec": {
      "name": "python3",
      "display_name": "Python 3"
    }
  },
  "cells": [
    {
      "cell_type": "markdown",
      "metadata": {
        "id": "view-in-github",
        "colab_type": "text"
      },
      "source": [
        "<a href=\"https://colab.research.google.com/github/SALRIGO/py28/blob/master/notebook/mid_exam_py28.ipynb\" target=\"_parent\"><img src=\"https://colab.research.google.com/assets/colab-badge.svg\" alt=\"Open In Colab\"/></a>"
      ]
    },
    {
      "cell_type": "markdown",
      "metadata": {
        "id": "YTiomyy9dLbt",
        "colab_type": "text"
      },
      "source": [
        "###파이썬활용 중간고사 풀이"
      ]
    },
    {
      "cell_type": "markdown",
      "metadata": {
        "id": "5u2yr8xwdRIM",
        "colab_type": "text"
      },
      "source": [
        "##문제1\n",
        "- #다음 식의 연산 결과는?"
      ]
    },
    {
      "cell_type": "code",
      "metadata": {
        "id": "J-fhYKzsdDq7",
        "colab_type": "code",
        "colab": {}
      },
      "source": [
        "a = 5  #a에 5라는 값 지정\n",
        "b = 3  #b에 3이라는 값지정\n",
        "a**b   #a^b = 5^3  "
      ],
      "execution_count": 0,
      "outputs": []
    },
    {
      "cell_type": "markdown",
      "metadata": {
        "id": "vN7v1pz9n8mV",
        "colab_type": "text"
      },
      "source": [
        "- ▲ 15\n",
        "- ◆ 243 \n",
        "- ● 125  (o)\n",
        "\n",
        "    5^3 = 5×5×5 = 125\n",
        "- ■ 2"
      ]
    },
    {
      "cell_type": "markdown",
      "metadata": {
        "id": "YCCDhCfuxWTf",
        "colab_type": "text"
      },
      "source": [
        "## 문제2\n",
        "- 다음 문자열 a에 대하여 슬라이싱을 한 결과는?"
      ]
    },
    {
      "cell_type": "code",
      "metadata": {
        "id": "NPTrUqmzwJ61",
        "colab_type": "code",
        "outputId": "341fe062-114c-4cd4-a876-cbec7c89c1d2",
        "colab": {
          "base_uri": "https://localhost:8080/",
          "height": 35
        }
      },
      "source": [
        "a = \"Life is too short, You need Python!\"  # a 에 \"Life is too short, You need Python!\" 라는 문자열 지정\n",
        "a[-16:-8]                                  # a의 뒤에서 16번째 문자('Y')부터 뒤에서 8번째 문자(d' 'P) 전까지 출력\n",
        "#'You need'"
      ],
      "execution_count": 0,
      "outputs": [
        {
          "output_type": "execute_result",
          "data": {
            "text/plain": [
              "'You need'"
            ]
          },
          "metadata": {
            "tags": []
          },
          "execution_count": 6
        }
      ]
    },
    {
      "cell_type": "markdown",
      "metadata": {
        "id": "c3Ja7bfjw8dQ",
        "colab_type": "text"
      },
      "source": [
        "- ▲ 'You need' (o)\n",
        "\n",
        "    a[-16:-8]\n",
        "- ◆ 'you need Python'\n",
        "\n",
        "    a[19:-1]\n",
        "- ● 'need Python'\n",
        "\n",
        "    a[23:-1]\n",
        "- ■ 'short, You'\n",
        "\n",
        "    a[12:-13]"
      ]
    },
    {
      "cell_type": "markdown",
      "metadata": {
        "id": "jjTeUQDxxvOH",
        "colab_type": "text"
      },
      "source": [
        "## 문제3\n",
        "- 다음 list a의 인덱싱 결과는?"
      ]
    },
    {
      "cell_type": "code",
      "metadata": {
        "id": "om5OrBW6wuU3",
        "colab_type": "code",
        "outputId": "dcec5264-db79-4049-fdbb-f0cb6322046d",
        "colab": {
          "base_uri": "https://localhost:8080/",
          "height": 35
        }
      },
      "source": [
        "a = [1,2,(3,4),['a','b',['my','Life','Good']]] #리스트 a 생성\n",
        "a[3][-1][0]                                     \n",
        "                                                #a리스트 안에있는 4번째 리스트(['a','b',['my','Life','Good']])\n",
        "                                                #내의 뒤에서 1번째에 있는 리스트(['my','Life','Good']) \n",
        "                                                #내의 1번째에 있는 'my'                                              "
      ],
      "execution_count": 54,
      "outputs": [
        {
          "output_type": "execute_result",
          "data": {
            "text/plain": [
              "'my'"
            ]
          },
          "metadata": {
            "tags": []
          },
          "execution_count": 54
        }
      ]
    },
    {
      "cell_type": "markdown",
      "metadata": {
        "id": "WrM4uPwz2gXX",
        "colab_type": "text"
      },
      "source": [
        "- ▲ 'a'\n",
        "\n",
        "    a[3][0]\n",
        "- ◆ 'My'  (o)\n",
        "\n",
        "    a[3][-1][0]\n",
        "- ● 'Life'\n",
        "\n",
        "    a[3][2][1]\n",
        "- ■ 'Good'\n",
        "\n",
        "    a[3][2][2]"
      ]
    },
    {
      "cell_type": "markdown",
      "metadata": {
        "id": "6IAjJEPm7Tgq",
        "colab_type": "text"
      },
      "source": [
        "## 문제4\n",
        "- 다음 tuple t1의 슬라이싱 결과는?"
      ]
    },
    {
      "cell_type": "code",
      "metadata": {
        "id": "TvTaprGN2tjz",
        "colab_type": "code",
        "outputId": "ddeea9c7-a2a5-49cf-e483-3df1202ca7a0",
        "colab": {
          "base_uri": "https://localhost:8080/",
          "height": 35
        }
      },
      "source": [
        "\n",
        "t1 = (0,1,\"s\",\"t\",\"u\")           #t1 에 튜플 생성\n",
        "t1[2:-2]                         #튜플 t1에서 3번째 자리(\"s\")부터 뒤에서 2번째 자리(\"t\")전 까지 슬라이싱\n",
        "                                 #튜플은 값이 하나만 출력될수 없기 떄문에 ('s',)가 출력됩니다. 하나만 출력할 경우 str"
      ],
      "execution_count": 0,
      "outputs": [
        {
          "output_type": "execute_result",
          "data": {
            "text/plain": [
              "str"
            ]
          },
          "metadata": {
            "tags": []
          },
          "execution_count": 33
        }
      ]
    },
    {
      "cell_type": "markdown",
      "metadata": {
        "id": "eoPRY74r4P4E",
        "colab_type": "text"
      },
      "source": [
        "- ▲ ('s','t')\n",
        "\n",
        "    t1[2:-1]    type:tuple\n",
        "- ◆ ('s','t',)\n",
        "\n",
        "    출력불가\n",
        "- ● ('s')\n",
        "\n",
        "    t1[2]       type:str\n",
        "- ■ ('s',)    (o)\n",
        "\n",
        "    t1[2:-2]    type:tuple"
      ]
    },
    {
      "cell_type": "markdown",
      "metadata": {
        "id": "UuUha2mp7V1i",
        "colab_type": "text"
      },
      "source": [
        "## 문제5\n",
        "- 다음 bool 값 출력 중 정확한 것은?"
      ]
    },
    {
      "cell_type": "code",
      "metadata": {
        "id": "gGQcG_I65C08",
        "colab_type": "code",
        "outputId": "5659831d-934d-4736-a4e4-1096c665f5d2",
        "colab": {
          "base_uri": "https://localhost:8080/",
          "height": 35
        }
      },
      "source": [
        "bool([0,1,2]), bool([0]),bool((0)),bool((0,))\n",
        "#bool([0,1,2])는 [0,1,2]이라는 값이 리스트로 있어서 True\n",
        "#bool([0])는 [0]이라는 값이 리스트로 있어서 True\n",
        "#bool((0))는 값이 0인 int 이기 때문에 그로인해 (0 = False) False     (1=True)\n",
        "#bool(0,)는 (0,)이라는 튜플이기때문에 True"
      ],
      "execution_count": 4,
      "outputs": [
        {
          "output_type": "execute_result",
          "data": {
            "text/plain": [
              "(True, True, False, True)"
            ]
          },
          "metadata": {
            "tags": []
          },
          "execution_count": 4
        }
      ]
    },
    {
      "cell_type": "markdown",
      "metadata": {
        "id": "MngGhyUb6WdD",
        "colab_type": "text"
      },
      "source": [
        "- ▲ (True, True, True, True)\n",
        "- ◆ (False, False, False, False)\n",
        "- ● (True, True, False, True)  (o)\n",
        "- ■ (True, False, False, True)"
      ]
    },
    {
      "cell_type": "markdown",
      "metadata": {
        "id": "yZGlUM2A9V5q",
        "colab_type": "text"
      },
      "source": [
        "## 문제6\n",
        "- 다음 조건문을 1줄 코드로 변경하시오."
      ]
    },
    {
      "cell_type": "code",
      "metadata": {
        "id": "ghWnGyEw7SYa",
        "colab_type": "code",
        "colab": {
          "base_uri": "https://localhost:8080/",
          "height": 35
        },
        "outputId": "6ea68a20-31bc-4f6e-e511-d46712e13096"
      },
      "source": [
        "score = 80                    #score에 값80 지정\n",
        "if score >= 60:               #score의 값이 60 보다 크거나 같으면 message에 문자열 \"success\"을 대입\n",
        "  message = \"success\"          \n",
        "else:                         #그렇지 않을경우 message에 문자열 \"failure\"을 대입\n",
        "  message = \"failure\"\n",
        "#아래의 답중에 위의 연산과 같은 경우는 ◆이기때문에 정답이라 판단하였습니다.\n",
        "print(message)"
      ],
      "execution_count": 15,
      "outputs": [
        {
          "output_type": "stream",
          "text": [
            "success\n"
          ],
          "name": "stdout"
        }
      ]
    },
    {
      "cell_type": "markdown",
      "metadata": {
        "id": "njnu6nEvp7aN",
        "colab_type": "text"
      },
      "source": [
        "- ▲ message = \"failure\" if score>=60 else \"success\"\n",
        "\n",
        "    failure\n",
        "- ◆ message = \"success\" if score>=60 else \"failure\" (o)\n",
        "\n",
        "    success\n",
        "- ● message = \"failure\" if score>=60 then \"success\"\n",
        "\n",
        "    SyntaxError: invalid syntax\n",
        "- ■ message = \"success\" if score>=60 then \"failure\"\n",
        "\n",
        "    SyntaxError: invalid syntax"
      ]
    },
    {
      "cell_type": "markdown",
      "metadata": {
        "id": "DBi5nict4OBS",
        "colab_type": "text"
      },
      "source": [
        "##문제7\n",
        "- 다음 코드의 실행 결과는?"
      ]
    },
    {
      "cell_type": "code",
      "metadata": {
        "id": "D0DAlPuP4QKK",
        "colab_type": "code",
        "colab": {
          "base_uri": "https://localhost:8080/",
          "height": 35
        },
        "outputId": "f872c016-4ee4-4bb2-d0a2-2d432b7c4725"
      },
      "source": [
        "games = [\"A\",\"B\",\"C\"]             #game에 [\"A\",\"B\",\"C\"]라는 리스트 생성\n",
        "\n",
        "for cnt in range(len(games)):     #for 반복구문 반복할때마다 cnt에 0부터 3-1 의 값을 한번씩 집어넣음 \n",
        "  print(cnt, games[cnt], end=',')  #현재 cnt와 games리스트의 cnt번쨰의 문자 출력후 ,를 찍고 가로로 출력"
      ],
      "execution_count": 32,
      "outputs": [
        {
          "output_type": "stream",
          "text": [
            "0 A,1 B,2 C,"
          ],
          "name": "stdout"
        }
      ]
    },
    {
      "cell_type": "markdown",
      "metadata": {
        "id": "54O3qpTq4rRS",
        "colab_type": "text"
      },
      "source": [
        "- ▲ 0 A,1 B,2 C, (o)\n",
        "- ◆ 0 A,1 B,2 C\n",
        "- ● 1 A,2 B,3 C,\n",
        "- ■ 1 A,2 B,3 C"
      ]
    },
    {
      "cell_type": "markdown",
      "metadata": {
        "id": "GPm6m8Fw5SkS",
        "colab_type": "text"
      },
      "source": [
        "##문제8\n",
        "- 다음의 결과가 출력되지 않는 것은? 'I ate 10 apples, so I was sick for three days'"
      ]
    },
    {
      "cell_type": "code",
      "metadata": {
        "id": "u72c41Pu5ZpW",
        "colab_type": "code",
        "colab": {
          "base_uri": "https://localhost:8080/",
          "height": 136
        },
        "outputId": "f3689cf8-d6a6-4332-d4a1-3a58ab692b88"
      },
      "source": [
        "# code start\n",
        "number = 10\n",
        "day = \"three\"\n",
        "\n",
        "\"I ate {0} apples. so I was sick for {1} days.\".format(10,day)         #format함수를 이용하여 출력값: 10, three(day에 저장된 문자열)\n",
        "f\"I ate {number} apples. so I was sick for {day} days.\"                #f문자열을 이용한 포매팅 출력값: 10(number에저장됨), three(day에 저장됨)\n",
        "f\"I ate {number} apples. so I was sick for {'three'} days.\"            #f문자열을 이용한 포매팅 출력값: 10(number에저장됨), three\n",
        "\"I ate {0} apples. so I was sick for {1} ays.\".format(number=10, day)  #SyntaxError: positional argument follows keyword argument (number=10은형식x)"
      ],
      "execution_count": 38,
      "outputs": [
        {
          "output_type": "error",
          "ename": "SyntaxError",
          "evalue": "ignored",
          "traceback": [
            "\u001b[0;36m  File \u001b[0;32m\"<ipython-input-38-7fe1c19a825f>\"\u001b[0;36m, line \u001b[0;32m6\u001b[0m\n\u001b[0;31m    \"I ate {0} apples. so I was sick for {1} ays.\".format(number=10, day)\u001b[0m\n\u001b[0m                                                                    ^\u001b[0m\n\u001b[0;31mSyntaxError\u001b[0m\u001b[0;31m:\u001b[0m positional argument follows keyword argument\n"
          ]
        }
      ]
    },
    {
      "cell_type": "markdown",
      "metadata": {
        "id": "cwNIBlpQ6Ji7",
        "colab_type": "text"
      },
      "source": [
        "- ▲ \"I ate {0} apples. so I was sick for {1} days.\".format(10,day)\n",
        "\n",
        "    'I ate 10 apples. so I was sick for three days.'\n",
        "- ◆ f\"I ate {number} apples. so I was sick for {day} days.\"\n",
        "\n",
        "    'I ate 10 apples. so I was sick for three days.'\n",
        "- ● f\"I ate {number} apples. so I was sick for {'three'} days.\"\n",
        "\n",
        "    'I ate 10 apples. so I was sick for three days.'\n",
        "- ■ \"I ate {0} apples. so I was sick for {1} ays.\".format(number=10, day) (o)\n",
        "\n",
        "    SyntaxError: positional argument follows keyword argument"
      ]
    },
    {
      "cell_type": "markdown",
      "metadata": {
        "id": "Xa33hgQH8-sr",
        "colab_type": "text"
      },
      "source": [
        "##문제9\n",
        "- 리스트 내포를 사용해 1부터 1000이하의 자연수 중 5의 배수의 합을 구하는 한 줄 코드를 작성하시오."
      ]
    },
    {
      "cell_type": "code",
      "metadata": {
        "id": "CzZMlHig9ktc",
        "colab_type": "code",
        "colab": {}
      },
      "source": [
        "5 + 10 + 15 + 20 + 25 + .....\n",
        "... + 955 + 960 + 965 + 970 +\n",
        "975 + ... + 995 + 1000 = ?"
      ],
      "execution_count": 0,
      "outputs": []
    },
    {
      "cell_type": "code",
      "metadata": {
        "id": "5Zwao973de5X",
        "colab_type": "code",
        "colab": {
          "base_uri": "https://localhost:8080/",
          "height": 35
        },
        "outputId": "626df9ae-254d-4009-c22d-823d4dc14feb"
      },
      "source": [
        "sum([num for num in range(1,1001) if num % 5==0]) #1에서 1001전까지의 숫자를 한번씩num에 집어넣고 만약 집어넣은 값이 5로 나누었을때\n",
        "                                                  #나머지가 0으로 떨어질 경우 sum함수를 이용하여 값을 중복하여 더함"
      ],
      "execution_count": 43,
      "outputs": [
        {
          "output_type": "execute_result",
          "data": {
            "text/plain": [
              "100500"
            ]
          },
          "metadata": {
            "tags": []
          },
          "execution_count": 43
        }
      ]
    },
    {
      "cell_type": "markdown",
      "metadata": {
        "id": "TKO2tHaL-NNJ",
        "colab_type": "text"
      },
      "source": [
        "- ▲ sum([num for num in range(1,1000) if num % 5==0])\n",
        "\n",
        "    range함수는 (a,b)일떄 a숫자 부터 b숫자의 전까지 수를 반환 하기때문에\n",
        "    해당연산의 경우 숫자가 **999**까지 반환되기 떄문에 1000이 누락되어       \n",
        "    더해지지 않아 99500라는 값이 나오게된다.\n",
        "- ◆ len([num for num in range(1,1000) if num % 5==0])\n",
        "\n",
        "    len 함수의 경우 num안에들은 갯수를 세주는 함수이기 떄문에 1에서  \n",
        "    999까지의 숫자중 5의 배수의 갯수를 세주어서 **199**라는 값이 출력된다.\n",
        "- ● sum([num for num in range(1,1001) if num % 5==0]) (o)\n",
        "\n",
        "100500\n",
        "- ■ len([num for num in range(1,1001) if num % 5==0])\n",
        "\n",
        "    1에서 1000까지의 숫자중 5의 배수의 갯수를 세기때문에 **200**이라는 값이 \n",
        "    출력된다."
      ]
    },
    {
      "cell_type": "markdown",
      "metadata": {
        "id": "9v0Xy_aY_yoK",
        "colab_type": "text"
      },
      "source": [
        "##문제10\n",
        "- 4개 과목의 평균 성적을 구하시오. [a],[b]에 적합한 코드는?"
      ]
    },
    {
      "cell_type": "code",
      "metadata": {
        "id": "rtIXSHKqhFwl",
        "colab_type": "code",
        "colab": {}
      },
      "source": [
        "#문제\n",
        "subjects = ['python','english','math','science']\n",
        "scores = [88, 77, 66, 95]\n",
        "total = 0\n",
        "\n",
        "for subject, score in [a].______(subjects, scores):\n",
        "  total += score\n",
        "  print(subject, score)\n",
        "\n",
        "print(\"평균 점수 = (0)\".format([b]._______))  "
      ],
      "execution_count": 0,
      "outputs": []
    },
    {
      "cell_type": "code",
      "metadata": {
        "id": "rIfcBI0N__He",
        "colab_type": "code",
        "colab": {
          "base_uri": "https://localhost:8080/",
          "height": 244
        },
        "outputId": "a8d3b136-03c5-446b-bc53-b8191e8c8e54"
      },
      "source": [
        "#▲\n",
        "subjects = ['python','english','math','science']       #subjects에 리스트 지정\n",
        "scores = [88, 77, 66, 95]                              #scores에 리스트 지정\n",
        "total = 0\n",
        "                                                       #밑의 답처럼 zip함수의 사용방법으로 enumerate 함수를 사용할경우 오류가 발생한다.\n",
        "for subject, score in enumerate(subjects, scores):     #오류를 방지하려면  subjects를 제외할경우 작동하게된다\n",
        "  total += score                                       #score의값들을 더하여 total에 집어넣음\n",
        "  print(subject, score)                                #subject와 score 값 출력\n",
        "\n",
        "print(\"평균 점수 = {0}\".format(score/len(subjects)))  #문자열 포메팅을 이용하여 score를 4로 나눈 값이 출력된다."
      ],
      "execution_count": 53,
      "outputs": [
        {
          "output_type": "error",
          "ename": "TypeError",
          "evalue": "ignored",
          "traceback": [
            "\u001b[0;31m---------------------------------------------------------------------------\u001b[0m",
            "\u001b[0;31mTypeError\u001b[0m                                 Traceback (most recent call last)",
            "\u001b[0;32m<ipython-input-53-bd90e9c480a8>\u001b[0m in \u001b[0;36m<module>\u001b[0;34m()\u001b[0m\n\u001b[1;32m      3\u001b[0m \u001b[0mtotal\u001b[0m \u001b[0;34m=\u001b[0m \u001b[0;36m0\u001b[0m\u001b[0;34m\u001b[0m\u001b[0;34m\u001b[0m\u001b[0m\n\u001b[1;32m      4\u001b[0m \u001b[0;34m\u001b[0m\u001b[0m\n\u001b[0;32m----> 5\u001b[0;31m \u001b[0;32mfor\u001b[0m \u001b[0msubject\u001b[0m\u001b[0;34m,\u001b[0m \u001b[0mscore\u001b[0m \u001b[0;32min\u001b[0m \u001b[0menumerate\u001b[0m\u001b[0;34m(\u001b[0m\u001b[0msubjects\u001b[0m\u001b[0;34m,\u001b[0m \u001b[0mscores\u001b[0m\u001b[0;34m)\u001b[0m\u001b[0;34m:\u001b[0m     \u001b[0;31m#밑의 답처럼 zip함수의 사용방법으로 enumerate 함수를 사용할경우 오류가 발생한다. 그래서\u001b[0m\u001b[0;34m\u001b[0m\u001b[0;34m\u001b[0m\u001b[0m\n\u001b[0m\u001b[1;32m      6\u001b[0m   \u001b[0mtotal\u001b[0m \u001b[0;34m+=\u001b[0m \u001b[0mscore\u001b[0m                                       \u001b[0;31m#score의값들을 더하여 total에 집어넣음\u001b[0m\u001b[0;34m\u001b[0m\u001b[0;34m\u001b[0m\u001b[0m\n\u001b[1;32m      7\u001b[0m   \u001b[0mprint\u001b[0m\u001b[0;34m(\u001b[0m\u001b[0msubject\u001b[0m\u001b[0;34m,\u001b[0m \u001b[0mscore\u001b[0m\u001b[0;34m)\u001b[0m                                \u001b[0;31m#subject와 score 값 출력\u001b[0m\u001b[0;34m\u001b[0m\u001b[0;34m\u001b[0m\u001b[0m\n",
            "\u001b[0;31mTypeError\u001b[0m: 'list' object cannot be interpreted as an integer"
          ]
        }
      ]
    },
    {
      "cell_type": "code",
      "metadata": {
        "id": "jeQB9z0hgxm3",
        "colab_type": "code",
        "colab": {
          "base_uri": "https://localhost:8080/",
          "height": 107
        },
        "outputId": "761ee13e-9b7c-4ea7-d341-e974996e439b"
      },
      "source": [
        "#◆\n",
        "subjects = ['python','english','math','science']        #subjects에 리스트 지정\n",
        "scores = [88, 77, 66, 95]                               #scores에 리스트 지정\n",
        "total = 0\n",
        "\n",
        "for subject, score in zip(subjects, scores):           #zip함수를 이용하여subject에는 subjects의 값을 score에는 scores의 값을 하나씩 넣는다.\n",
        "  total += score                                       #score의값들을 더하여 total에 집어넣음\n",
        "  print(subject, score)                                #subject와 score 값 출력\n",
        "\n",
        "print(\"평균 점수 = {0}\".format(len(subjects)))         #문자열 포메팅을 이용하여 subjects리스트의 수(4)를 센값을 출력"
      ],
      "execution_count": 48,
      "outputs": [
        {
          "output_type": "stream",
          "text": [
            "python 88\n",
            "english 77\n",
            "math 66\n",
            "science 95\n",
            "평균 점수 = 4\n"
          ],
          "name": "stdout"
        }
      ]
    },
    {
      "cell_type": "code",
      "metadata": {
        "id": "MZfzLSl7hNDN",
        "colab_type": "code",
        "colab": {
          "base_uri": "https://localhost:8080/",
          "height": 244
        },
        "outputId": "b5d17931-7c9b-4d57-ce89-3df97196b88a"
      },
      "source": [
        "#●\n",
        "subjects = ['python','english','math','science']       #subjects에 리스트 지정\n",
        "scores = [88, 77, 66, 95]                              #scores에 리스트 지정\n",
        "total = 0\n",
        "                                                       #밑의 답처럼 zip함수의 사용방법으로 enumerate 함수를 사용할경우 오류가 발생한다.\n",
        "for subject, score in enumerate(subjects, scores):     #오류를 방지하려면  subjects를 제외할경우 작동하게된다\n",
        "  total += score                                       #score의값들을 더하여 total에 집어넣음\n",
        "  print(subject, score)                                #subject와 score 값 출력\n",
        "\n",
        "print(\"평균 점수 = {0}\".format(total/len(subjects)))   #total에다 subjects리스트의 갯수(4)를 값을 출력한다."
      ],
      "execution_count": 49,
      "outputs": [
        {
          "output_type": "error",
          "ename": "TypeError",
          "evalue": "ignored",
          "traceback": [
            "\u001b[0;31m---------------------------------------------------------------------------\u001b[0m",
            "\u001b[0;31mTypeError\u001b[0m                                 Traceback (most recent call last)",
            "\u001b[0;32m<ipython-input-49-dcb6cf9a2c58>\u001b[0m in \u001b[0;36m<module>\u001b[0;34m()\u001b[0m\n\u001b[1;32m      3\u001b[0m \u001b[0mtotal\u001b[0m \u001b[0;34m=\u001b[0m \u001b[0;36m0\u001b[0m\u001b[0;34m\u001b[0m\u001b[0;34m\u001b[0m\u001b[0m\n\u001b[1;32m      4\u001b[0m \u001b[0;34m\u001b[0m\u001b[0m\n\u001b[0;32m----> 5\u001b[0;31m \u001b[0;32mfor\u001b[0m \u001b[0msubject\u001b[0m\u001b[0;34m,\u001b[0m \u001b[0mscore\u001b[0m \u001b[0;32min\u001b[0m \u001b[0menumerate\u001b[0m\u001b[0;34m(\u001b[0m\u001b[0msubjects\u001b[0m\u001b[0;34m,\u001b[0m \u001b[0mscores\u001b[0m\u001b[0;34m)\u001b[0m\u001b[0;34m:\u001b[0m\u001b[0;34m\u001b[0m\u001b[0;34m\u001b[0m\u001b[0m\n\u001b[0m\u001b[1;32m      6\u001b[0m   \u001b[0mtotal\u001b[0m \u001b[0;34m+=\u001b[0m \u001b[0mscore\u001b[0m\u001b[0;34m\u001b[0m\u001b[0;34m\u001b[0m\u001b[0m\n\u001b[1;32m      7\u001b[0m   \u001b[0mprint\u001b[0m\u001b[0;34m(\u001b[0m\u001b[0msubject\u001b[0m\u001b[0;34m,\u001b[0m \u001b[0mscore\u001b[0m\u001b[0;34m)\u001b[0m\u001b[0;34m\u001b[0m\u001b[0;34m\u001b[0m\u001b[0m\n",
            "\u001b[0;31mTypeError\u001b[0m: 'list' object cannot be interpreted as an integer"
          ]
        }
      ]
    },
    {
      "cell_type": "code",
      "metadata": {
        "id": "c4OiyC_ZhPjV",
        "colab_type": "code",
        "colab": {
          "base_uri": "https://localhost:8080/",
          "height": 107
        },
        "outputId": "18552161-6075-499f-ce5a-5395a201c0fe"
      },
      "source": [
        "#■\n",
        "subjects = ['python','english','math','science']          #subjects에 리스트 지정\n",
        "scores = [88, 77, 66, 95]                                 #scores에 리스트 지정\n",
        "total = 0\n",
        "\n",
        "for subject, score in zip(subjects, scores):              #zip함수를 이용하여subject에는 subjects의 값을 score에는 scores의 값을 하나씩 넣는다.\n",
        "  total += score                                          #score의값들을 더하여 total에 집어넣음\n",
        "  print(subject, score)\n",
        "\n",
        "print(\"평균 점수 = {0}\".format(total/len(subjects)))      #total에다 subjects리스트의 갯수(4)를 값을 출력한다."
      ],
      "execution_count": 50,
      "outputs": [
        {
          "output_type": "stream",
          "text": [
            "python 88\n",
            "english 77\n",
            "math 66\n",
            "science 95\n",
            "평균 점수 = 81.5\n"
          ],
          "name": "stdout"
        }
      ]
    },
    {
      "cell_type": "markdown",
      "metadata": {
        "id": "3Ymi4KCWBdL0",
        "colab_type": "text"
      },
      "source": [
        "\n",
        "- ▲ enumerate, scores/len(subjects)\n",
        "\n",
        "    TypeError: 'list' object cannot be interpreted as an integer\n",
        "- ◆ zip,scores/len(subjects)\n",
        "\n",
        "    평균 점수 = 4\n",
        "- ● enumerate, total/len(subjects)\n",
        "\n",
        "    TypeError: 'list' object cannot be interpreted as an integer\n",
        "- ■ zip, total/len(subjects)  (o)\n",
        "\n",
        "    평균 점수 = 81.5"
      ]
    }
  ]
}