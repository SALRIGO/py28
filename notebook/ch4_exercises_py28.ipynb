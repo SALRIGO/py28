{
  "nbformat": 4,
  "nbformat_minor": 0,
  "metadata": {
    "colab": {
      "name": "ch4_exercises_py28.ipynb",
      "provenance": [],
      "collapsed_sections": [],
      "include_colab_link": true
    },
    "kernelspec": {
      "name": "python3",
      "display_name": "Python 3"
    }
  },
  "cells": [
    {
      "cell_type": "markdown",
      "metadata": {
        "id": "view-in-github",
        "colab_type": "text"
      },
      "source": [
        "<a href=\"https://colab.research.google.com/github/SALRIGO/py28/blob/master/notebook/ch4_exercises_py28.ipynb\" target=\"_parent\"><img src=\"https://colab.research.google.com/assets/colab-badge.svg\" alt=\"Open In Colab\"/></a>"
      ]
    },
    {
      "cell_type": "markdown",
      "metadata": {
        "id": "ovY5jkD5dpxE",
        "colab_type": "text"
      },
      "source": [
        "## ch4_exercises_py28.ipynb"
      ]
    },
    {
      "cell_type": "markdown",
      "metadata": {
        "id": "SZw6UnxQWYBe",
        "colab_type": "text"
      },
      "source": [
        "## Q1.\n",
        "> 주어진 자연수가 홀수인지 짝수인지 판별해 주는 함수(is_odd)를 작성해 보자.\n"
      ]
    },
    {
      "cell_type": "code",
      "metadata": {
        "id": "rUNNaqJPdg7B",
        "colab_type": "code",
        "outputId": "08f26b3f-54c1-433d-c8cd-4b2b673c83f4",
        "colab": {
          "base_uri": "https://localhost:8080/",
          "height": 53
        }
      },
      "source": [
        "# [Q1] Code1\n",
        "num = int(input(\"숫자를 입력해 주세요.:\"))     # 입력받은 문자열숫자를 int를 이용하여 정수형으로 바꾼다.\n",
        "\n",
        "def is_odd(num):\n",
        "  if num % 2 == 0:                             # num을 2로 나눈 나머지가 0(짝수)이라면 아래 프린트문 출력\n",
        "   print(\"입력하신 숫자 %d는 짝수입니다.\"%num)\n",
        "  else:                                        # 그 이외는 아래 프린트문 출력\n",
        "   print(\"입력하신 숫자 %d는 홀수입니다.\"%num)\n",
        "\n",
        "is_odd(num)                                    # 함수 is_odd()에 num에 입력 받는 정수를 넣어 작동"
      ],
      "execution_count": 0,
      "outputs": [
        {
          "output_type": "stream",
          "text": [
            "숫자를 입력해 주세요.:6\n",
            "입력하신 숫자 6는 짝수입니다.\n"
          ],
          "name": "stdout"
        }
      ]
    },
    {
      "cell_type": "code",
      "metadata": {
        "id": "eSsTGuI8sZep",
        "colab_type": "code",
        "outputId": "6f672142-6b0c-4c1a-b278-5414abf30691",
        "colab": {
          "base_uri": "https://localhost:8080/",
          "height": 53
        }
      },
      "source": [
        "# [Q1] Code2\n",
        "number = int(input(\"숫자를 입력해 주세요.:\"))     # 입력받은 문자열숫자를 int를 이용하여 정수형으로 바꾼다.\n",
        "\n",
        "def is_odd1(number):\n",
        "    return bool(number % 2 == 0)                  # 입력받은 number을 2로 나누었을때 나머지가 0(짝수)이라면 True(1)\n",
        "\n",
        "result = is_odd1(number)                          # result에 is_odd1 함수를 사용한 결과값 입력\n",
        "\n",
        "if 1 == result:                                   # result가 1(True)일 경우 아래 프린트문 출력\n",
        "    print(\"숫자 %d는 짝수입니다.\"%number)\n",
        "else:                                             # 그 이외는 아래 프린트문 출력\n",
        "    print(\"숫자 %d는 홀수입니다.\"%number)"
      ],
      "execution_count": 0,
      "outputs": [
        {
          "output_type": "stream",
          "text": [
            "숫자를 입력해 주세요.:6\n",
            "숫자 6는 짝수입니다.\n"
          ],
          "name": "stdout"
        }
      ]
    },
    {
      "cell_type": "markdown",
      "metadata": {
        "colab_type": "text",
        "id": "re2-XrUYXF1m"
      },
      "source": [
        "## Q2.\n",
        "> 입력으로 들어오는 모든 수의 평균 값을 계산해 주는 함수를 작성해 보자. \n",
        "- (단 입력으로 들어오는 수의 개수는 정해져 있지 않다.)\n",
        "- ※ 평균 값을 구할 때 len 함수를 사용해 보자.\n"
      ]
    },
    {
      "cell_type": "code",
      "metadata": {
        "colab_type": "code",
        "id": "5MBLUZ5WXF1q",
        "outputId": "04d18958-9fe0-416b-d3da-0b54d5f5e79d",
        "colab": {
          "base_uri": "https://localhost:8080/",
          "height": 35
        }
      },
      "source": [
        "# [Q2] Code1\n",
        "def average_number(*num):        # 입력값이 몇개일지 모를땐 매개변수앞에 *를 붙여준다.\n",
        "  average = 0                    # average 초기화\n",
        "  for i in num:                  # for반복 구문\n",
        "     average += i/len(num)       # average에 i/len(num)을 한 값을 누적하여 더해줌\n",
        "  return average                 # average값 반환\n",
        "\n",
        "\n",
        "average_number(10,20,30)         #값을 10,20,30을 넣어 함수 average_number 실행"
      ],
      "execution_count": 0,
      "outputs": [
        {
          "output_type": "execute_result",
          "data": {
            "text/plain": [
              "20.0"
            ]
          },
          "metadata": {
            "tags": []
          },
          "execution_count": 138
        }
      ]
    },
    {
      "cell_type": "code",
      "metadata": {
        "id": "sLstP4Tf9BnF",
        "colab_type": "code",
        "outputId": "106177c6-3aa1-4dc6-93e6-8d3a9397bc85",
        "colab": {
          "base_uri": "https://localhost:8080/",
          "height": 143
        }
      },
      "source": [
        "# [Q2] Code2\n",
        "print(\"프로그램을 종료하시고 싶으시면 '0' 을 입력해주세요.\")\n",
        "num = int(input(\"숫자를 입력하세요.:\"))              # num에 사용자가 입력한 값을 저장\n",
        "def average(num):\n",
        " numbers = 0                                         # number 초기화\n",
        " count = 0                                           # count 초기화\n",
        " while num != -1:                                    # num의 값이 -1과 다를 경우 반복\n",
        "  if num > 0:                                        # num의 값이 0보다 클경우 if구문 실행\n",
        "     numbers += num                                  # numbers에 num의 값을 누적하여 더함\n",
        "     count += 1                                      # count에 1을 반복될때마다 누적하여 더함\n",
        "     num = int(input(\"숫자를 입력하세요.:\"))         # num의 값을 반복하여 받을수 있도록 안에 input 추가\n",
        "  elif num == 0:                                     # num의 값이 0일경우 elif구문 실행\n",
        "      return numbers/count                           # numbers/count 값을 반환\n",
        "\n",
        "print(\"입력하신 숫자의 평균은 {0}입니다.\".format(average(num)))\n",
        "print(\"프로그램을 종료합니다.\")"
      ],
      "execution_count": 0,
      "outputs": [
        {
          "output_type": "stream",
          "text": [
            "프로그램을 종료하시고 싶으시면 '0' 을 입력해주세요.\n",
            "숫자를 입력하세요.:10\n",
            "숫자를 입력하세요.:20\n",
            "숫자를 입력하세요.:30\n",
            "숫자를 입력하세요.:0\n",
            "입력하신 숫자의 평균은 20.0입니다.\n",
            "프로그램을 종료합니다.\n"
          ],
          "name": "stdout"
        }
      ]
    },
    {
      "cell_type": "markdown",
      "metadata": {
        "colab_type": "text",
        "id": "UZy8lu_BXGnT"
      },
      "source": [
        "## Q3.\n",
        "> 다음은 두 개의 숫자를 입력받아 더하여 돌려주는 프로그램이다.\n",
        "\n",
        "```\n",
        "input1 = input(\"첫번째 숫자를 입력하세요:\")\n",
        "input2 = input(\"두번째 숫자를 입력하세요:\")\n",
        "\n",
        "total = input1 + input2\n",
        "print(\"두 수의 합은 %s 입니다\" % total)\n",
        "\n",
        "```\n",
        "---\n",
        "> 이 프로그램을 수행해 보자.\n",
        "\n",
        ">> 첫번째 숫자를 입력하세요:3  \n",
        ">> 두번째 숫자를 입력하세요:6\n",
        "- 두 수의 합은 36 입니다\n",
        "- 3과 6을 입력했을 때 9가 아닌 36이라는 결괏값을 돌려주었다.  \n",
        "이 프로그램의 오류를 수정해 보자."
      ]
    },
    {
      "cell_type": "code",
      "metadata": {
        "colab_type": "code",
        "id": "H9T_sXHzXGnW",
        "outputId": "d9d831d2-23b4-467c-ae77-0c111453790e",
        "colab": {
          "base_uri": "https://localhost:8080/",
          "height": 71
        }
      },
      "source": [
        "# [Q3] Code\n",
        "#input은 항상 값을 문자열로 받기 때문에 int를 사용하여 정수로 변환하여 주어야한다.\n",
        "input1 = int(input(\"첫번째 숫자를 입력하세요:\"))\n",
        "input2 = int(input(\"두번째 숫자를 입력하세요:\"))\n",
        " \n",
        "total = input1 + input2\n",
        "print(\"두 수의 합은 %s 입니다\" % total)"
      ],
      "execution_count": 0,
      "outputs": [
        {
          "output_type": "stream",
          "text": [
            "첫번째 숫자를 입력하세요:3\n",
            "두번째 숫자를 입력하세요:6\n",
            "두 수의 합은 9 입니다\n"
          ],
          "name": "stdout"
        }
      ]
    },
    {
      "cell_type": "code",
      "metadata": {
        "id": "hHkwRQ-7XpQi",
        "colab_type": "code",
        "outputId": "7aaff827-6d72-4ebe-9ada-ef64be62f41e",
        "colab": {
          "base_uri": "https://localhost:8080/",
          "height": 71
        }
      },
      "source": [
        "# [Q3] Code\n",
        "#input은 항상 값을 문자열로 받기 때문에 int를 사용하여 정수로 변환하여 주어야한다.\n",
        "input1 = input(\"첫번째 숫자를 입력하세요:\")\n",
        "input2 = input(\"두번째 숫자를 입력하세요:\")\n",
        " \n",
        " #이런식으로 계산식에 넣어도 가능\n",
        "total = int(input1) + int(input2)\n",
        "print(\"두 수의 합은 %s 입니다\" % total)"
      ],
      "execution_count": 0,
      "outputs": [
        {
          "output_type": "stream",
          "text": [
            "첫번째 숫자를 입력하세요:3\n",
            "두번째 숫자를 입력하세요:6\n",
            "두 수의 합은 9 입니다\n"
          ],
          "name": "stdout"
        }
      ]
    },
    {
      "cell_type": "markdown",
      "metadata": {
        "colab_type": "text",
        "id": "fqypxxqTXHY7"
      },
      "source": [
        "## Q4.\n",
        "> 다음 중 출력 결과가 다른 것 한 개를 골라 보자.\n",
        "\n",
        "```\n",
        "print(\"you\" \"need\" \"python\")\n",
        "print(\"you\"+\"need\"+\"python\")\n",
        "print(\"you\", \"need\", \"python\")\n",
        "print(\"\".join([\"you\", \"need\", \"python\"]))\n",
        "```"
      ]
    },
    {
      "cell_type": "code",
      "metadata": {
        "colab_type": "code",
        "id": "oQ5UnmayXHY-",
        "outputId": "5ea98319-ae1b-433b-d5d1-2a4142d1a3e0",
        "colab": {
          "base_uri": "https://localhost:8080/",
          "height": 89
        }
      },
      "source": [
        "# [Q4] Code\n",
        "print(\"you\" \"need\" \"python\") #2번줄과 3번줄의 연산은 동일하다\n",
        "print(\"you\"+\"need\"+\"python\")\n",
        "print(\"you\", \"need\", \"python\",\"o\") #\" \"사이에 콤마를 쓰면 공백을 추가함\n",
        "print(\"\".join([\"you\", \"need\", \"python\"])) #리스트를 문자열로 변환하면 결국 2번,3번 줄과 같아진다."
      ],
      "execution_count": 261,
      "outputs": [
        {
          "output_type": "stream",
          "text": [
            "youneedpython\n",
            "youneedpython\n",
            "you need python o\n",
            "youneedpython\n"
          ],
          "name": "stdout"
        }
      ]
    },
    {
      "cell_type": "markdown",
      "metadata": {
        "colab_type": "text",
        "id": "NKsvciXZXIL-"
      },
      "source": [
        "## Q5.\n",
        "> 다음은 \"test.txt\"라는 파일에 \"Life is too short\" 문자열을 저장한 후 다시 그 파일을 읽어서 출력하는 프로그램이다.\n",
        "\n",
        "```\n",
        "f1 = open(\"test.txt\", 'w')\n",
        "f1.write(\"Life is too short\")\n",
        "\n",
        "f2 = open(\"test.txt\", 'r')\n",
        "print(f2.read())\n",
        "\n",
        "```\n",
        ">> 이 프로그램은 우리가 예상한 \"Life is too short\"라는 문장을 출력하지 않는다.\n",
        "\n",
        ">> 우리가 예상한 값을 출력할 수 있도록 프로그램을 수정해 보자."
      ]
    },
    {
      "cell_type": "code",
      "metadata": {
        "colab_type": "code",
        "id": "5MZQYOVjXIL_",
        "outputId": "2c56fba7-6c9d-4b93-9ede-eeeec11948fb",
        "colab": {
          "base_uri": "https://localhost:8080/",
          "height": 53
        }
      },
      "source": [
        "# [Q5] Code1\n",
        "f1 = open(\"test.txt\", 'w')      # 쓰기 모드-파일에 내용을 쓸 때 사용\n",
        "f1.write(\"Life is too short\\n\") # 파일에 적기\n",
        "f1.close()                         # 파일이 열려있는상태에서는 파일에 데이터가 저장되지않아 읽을수 없다.\n",
        "                                   # 그렇기 떄문에 파일을 만들면 꼭! close를 사용하여 파일을 닫아 주어야한다.\n",
        "f2 = open(\"test.txt\", 'r')      # 읽기 모드-파일을 읽기만 할 때 사용\n",
        "print(f2.read())                # 읽은 파일 출력\n",
        "f2.close()"
      ],
      "execution_count": 0,
      "outputs": [
        {
          "output_type": "stream",
          "text": [
            "Life is too short\n",
            "\n"
          ],
          "name": "stdout"
        }
      ]
    },
    {
      "cell_type": "code",
      "metadata": {
        "id": "fVdGkvWDZEDz",
        "colab_type": "code",
        "outputId": "a7807bfe-5163-461d-f4c8-6c568818f976",
        "colab": {
          "base_uri": "https://localhost:8080/",
          "height": 53
        }
      },
      "source": [
        "# [Q5] Code2 \n",
        "# 그러나 이렇게 with문을 사용하면 with블록을 벗어나는 순간 열려있는 파일객체가 자동으로 close되기떄문에 close를 사용하지 않아도 된다.\n",
        "with open(\"test.txt\",'w') as fas:\n",
        "  fas.write(\"Life is too short\\n\") \n",
        "\n",
        "with open(\"test.txt\",'r') as fas1:\n",
        "  print(fas1.read())"
      ],
      "execution_count": 0,
      "outputs": [
        {
          "output_type": "stream",
          "text": [
            "Life is too short\n",
            "\n"
          ],
          "name": "stdout"
        }
      ]
    },
    {
      "cell_type": "markdown",
      "metadata": {
        "colab_type": "text",
        "id": "-3KHtOOoXJBV"
      },
      "source": [
        "## Q6.\n",
        "> 사용자의 입력을 파일(test.txt)에 저장하는 프로그램을 작성해 보자. \n",
        "- (단 프로그램을 다시 실행하더라도 기존에 작성한 내용을 유지하고 새로 입력한 내용을 추가해야 한다.)\n"
      ]
    },
    {
      "cell_type": "code",
      "metadata": {
        "colab_type": "code",
        "id": "AjYR0lUaXJBa",
        "outputId": "eb560f4b-7344-4d3e-95b3-e84b5c909cc6",
        "colab": {
          "base_uri": "https://localhost:8080/",
          "height": 71
        }
      },
      "source": [
        "# [Q6] Code1\n",
        "f3 = open(\"test.txt\", 'a')                    # 추가모드-파일의 마지막에 새로운 내용을 추가할때 사용\n",
        "f3.write(input(\"저장할 내용을 입력하세요.:\")) # 입력 받은 내용 파일에 적기\n",
        "f3.close()\n",
        "\n",
        "f4 = open(\"test.txt\", 'r')                    # 읽기모드\n",
        "print(f4.read())                              # 읽은 파일 출력\n",
        "f4.close()"
      ],
      "execution_count": 0,
      "outputs": [
        {
          "output_type": "stream",
          "text": [
            "저장할 내용을 입력하세요.:요즘 과제가 많네....\n",
            "Life is too short\n",
            "요즘 과제가 많네....\n"
          ],
          "name": "stdout"
        }
      ]
    },
    {
      "cell_type": "code",
      "metadata": {
        "id": "SANLemFZa766",
        "colab_type": "code",
        "outputId": "28905bfc-3ed0-4d38-e5d4-9626559a826f",
        "colab": {
          "base_uri": "https://localhost:8080/",
          "height": 71
        }
      },
      "source": [
        "# [Q6] Code2\n",
        "# code1의 코드를 with문을 사용하여 파일생성\n",
        "words = input(\"저장할 내용을 입력하세요.:\")\n",
        "with open (\"test.txt\",'a') as fas2:\n",
        "   fas2.write(words)\n",
        "\n",
        "with open(\"test.txt\",'r') as fas3:\n",
        "   print(fas3.read())"
      ],
      "execution_count": 0,
      "outputs": [
        {
          "output_type": "stream",
          "text": [
            "저장할 내용을 입력하세요.: 아... 힘들다...\n",
            "Life is too short\n",
            "요즘 과제가 많네.... 아... 힘들다...\n"
          ],
          "name": "stdout"
        }
      ]
    },
    {
      "cell_type": "markdown",
      "metadata": {
        "colab_type": "text",
        "id": "YrS3b88QbmKo"
      },
      "source": [
        "## Q7.\n",
        "> 다음과 같은 내용을 지닌 파일 foo1.txt가 있다. 이 파일의 내용 중 \"java\"라는 문자열을 \"python\"으로 바꾸어서 저장해 보자.\n",
        "\n",
        ">> Life is too short  \n",
        ">> you need java\n",
        "\n",
        "- ※ replace 함수를 사용해 보자.\n"
      ]
    },
    {
      "cell_type": "code",
      "metadata": {
        "id": "B-WaaIoKGq-H",
        "colab_type": "code",
        "colab": {}
      },
      "source": [
        "#파일 foo1.txt 만들기~~~\n",
        "text = open(\"foo1.txt\",'w')\n",
        "text.write(\"Life is too short\\n\")\n",
        "text.write(\"you need java\")\n",
        "text.close()"
      ],
      "execution_count": 0,
      "outputs": []
    },
    {
      "cell_type": "code",
      "metadata": {
        "colab_type": "code",
        "id": "Ll_2InMWbmKq",
        "outputId": "7e5630bc-b31a-4da3-f313-3ef90f9a274f",
        "colab": {
          "base_uri": "https://localhost:8080/",
          "height": 53
        }
      },
      "source": [
        "# [Q7] Code1\n",
        "text = open(\"foo1.txt\",\"r\")  # 읽기 모드\n",
        "word = text.read()           # 읽은 내용을 word에 저장\n",
        "text.close()                 # 파일 닫기\n",
        "\n",
        "GOD = word.replace(\"java\",\"python\")  # word에 저장된 내용에서 \"java\"라는 문자열을 \"python\"으로 교체하여\n",
        "                                     # GOD에 저장 (파이썬은 신이다!)\n",
        "text = open(\"foo1.txt\",\"w\")  # 쓰기 모드\n",
        "text.write(GOD)              # GOD에 저장된 내용을 적기\n",
        "text.close()                 # 파일닫기\n",
        "\n",
        "text = open(\"foo1.txt\",\"r\") # 읽기 모드\n",
        "print(text.read())          # foo1.txt의 읽은 내용 출력\n",
        "text.close()                #파일닫기"
      ],
      "execution_count": 0,
      "outputs": [
        {
          "output_type": "stream",
          "text": [
            "Life is too short\n",
            "you need python\n"
          ],
          "name": "stdout"
        }
      ]
    },
    {
      "cell_type": "code",
      "metadata": {
        "id": "ucLYIonIfwtZ",
        "colab_type": "code",
        "outputId": "f9de9227-a200-4be3-bb8c-374f842c0bab",
        "colab": {
          "base_uri": "https://localhost:8080/",
          "height": 53
        }
      },
      "source": [
        "# [Q7] Code2\n",
        "# 위의 Code1과 연산방법은 같으나 with문을 사용하여 만든 파일입니다.\n",
        "with open (\"foo1.txt\",'r') as textf:\n",
        "    wordf = textf.read()\n",
        "\n",
        "GOD = wordf.replace('java','python')\n",
        "\n",
        "with open (\"foo1.txt\",'w') as textf1:\n",
        "    textf1.write(GOD)\n",
        "with open (\"foo1.txt\",'r') as textf2:\n",
        "    print(textf2.read())   "
      ],
      "execution_count": 0,
      "outputs": [
        {
          "output_type": "stream",
          "text": [
            "Life is too short\n",
            "you need python\n"
          ],
          "name": "stdout"
        }
      ]
    },
    {
      "cell_type": "markdown",
      "metadata": {
        "id": "2ljBDShkbqZO",
        "colab_type": "text"
      },
      "source": [
        "## 코딩 연습 결과를 github에 올리기\n",
        "> 완성된 ipython 노트북 파일을 각자의 github에 올리시오.\n",
        "\n",
        "- github 계정 만들기 (계정이 없는 학생)\n",
        "    1. github에 sign up (Google gmail 계정을 이용해서 만드시오.)\n",
        "- github에 노트 올리기\n",
        "    2. github에 각자의 id로 repo를 만드시오. (한번 만들면 계속 재사용)\n",
        "    3. github repo에 연습결과 노트를 올리시오.\n",
        "        - 제출노트: ch4_exercises_id.ipynb\n"
      ]
    },
    {
      "cell_type": "code",
      "metadata": {
        "id": "OnCR-YNCc8B6",
        "colab_type": "code",
        "colab": {}
      },
      "source": [
        ""
      ],
      "execution_count": 0,
      "outputs": []
    }
  ]
}