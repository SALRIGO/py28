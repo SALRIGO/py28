{
  "nbformat": 4,
  "nbformat_minor": 0,
  "metadata": {
    "colab": {
      "name": "ch2_code01_py28.ipynb",
      "provenance": [],
      "collapsed_sections": []
    },
    "kernelspec": {
      "name": "python3",
      "display_name": "Python 3"
    }
  },
  "cells": [
    {
      "cell_type": "markdown",
      "metadata": {
        "id": "H4jNE-BMAK3f",
        "colab_type": "text"
      },
      "source": [
        "# ch2_code01.ipynb\n",
        "## py28\n"
      ]
    },
    {
      "cell_type": "code",
      "metadata": {
        "id": "hTRRKc56En6p",
        "colab_type": "code",
        "colab": {
          "base_uri": "https://localhost:8080/",
          "height": 53
        },
        "outputId": "3e8fe219-1923-46fe-c580-3cc25aadfc7d"
      },
      "source": [
        "# ch2_01_numeric.py\n",
        "#\n",
        "print(\"숫자형: 정수\") #동적타이핑(Dynamic typing)\n",
        "a = 123\n",
        "a = -178\n",
        "# a = 0\n",
        "# a\n",
        "print(a)"
      ],
      "execution_count": 3,
      "outputs": [
        {
          "output_type": "stream",
          "text": [
            "숫자형: 정수\n",
            "-178\n"
          ],
          "name": "stdout"
        }
      ]
    },
    {
      "cell_type": "code",
      "metadata": {
        "id": "rvVEy1FvEv0l",
        "colab_type": "code",
        "colab": {
          "base_uri": "https://localhost:8080/",
          "height": 53
        },
        "outputId": "869e2485-4e75-4468-e5ba-d899c5ca1ec6"
      },
      "source": [
        "a1 = 123\n",
        "a2 = -178\n",
        "a3 = 0\n",
        "print(a1,a2,a3)\n",
        "a"
      ],
      "execution_count": 14,
      "outputs": [
        {
          "output_type": "stream",
          "text": [
            "123 -178 0\n"
          ],
          "name": "stdout"
        },
        {
          "output_type": "execute_result",
          "data": {
            "text/plain": [
              "-178"
            ]
          },
          "metadata": {
            "tags": []
          },
          "execution_count": 14
        }
      ]
    },
    {
      "cell_type": "code",
      "metadata": {
        "id": "zvuM3oUpFl_8",
        "colab_type": "code",
        "colab": {
          "base_uri": "https://localhost:8080/",
          "height": 35
        },
        "outputId": "d5dc7b46-303e-4baf-c394-6057e988fe2f"
      },
      "source": [
        "print(\"a1= \",a1)"
      ],
      "execution_count": 15,
      "outputs": [
        {
          "output_type": "stream",
          "text": [
            "a1=  123\n"
          ],
          "name": "stdout"
        }
      ]
    },
    {
      "cell_type": "markdown",
      "metadata": {
        "id": "ob82SyMsF0d7",
        "colab_type": "text"
      },
      "source": [
        "#다음과같이 입력해보세요\n",
        ">###  al = 123 a2 = -179 a3 = 0"
      ]
    },
    {
      "cell_type": "code",
      "metadata": {
        "id": "kvPSO6sGGHoj",
        "colab_type": "code",
        "colab": {
          "base_uri": "https://localhost:8080/",
          "height": 35
        },
        "outputId": "0a6287bd-2046-4632-b366-afd433ac75f8"
      },
      "source": [
        "print(\"a1= \",a1,\",a2 =  \",a2,\",a3 = \",a3)"
      ],
      "execution_count": 18,
      "outputs": [
        {
          "output_type": "stream",
          "text": [
            "a1=  123 ,a2 =   -178 ,a3 =  0\n"
          ],
          "name": "stdout"
        }
      ]
    },
    {
      "cell_type": "markdown",
      "metadata": {
        "id": "sHJjJXMkHM9T",
        "colab_type": "text"
      },
      "source": [
        "### 숫자형: 실수\n",
        "> 파이썬에서 실수를 표현해보자"
      ]
    },
    {
      "cell_type": "code",
      "metadata": {
        "id": "J59Vhr8ZDZhP",
        "colab_type": "code",
        "colab": {
          "base_uri": "https://localhost:8080/",
          "height": 53
        },
        "outputId": "d819c6c9-3df9-4e95-9cc1-d851bec11017"
      },
      "source": [
        "print(\"숫자형: 실수\")\n",
        "a1 = 1.2\n",
        "a2 = -3.48\n",
        "a3 = 4.24e10\n",
        "a4 = 4.24e-10\n",
        "a1,a2,a3,a4\n"
      ],
      "execution_count": 19,
      "outputs": [
        {
          "output_type": "stream",
          "text": [
            "숫자형: 실수\n"
          ],
          "name": "stdout"
        },
        {
          "output_type": "execute_result",
          "data": {
            "text/plain": [
              "(1.2, -3.48, 42400000000.0, 4.24e-10)"
            ]
          },
          "metadata": {
            "tags": []
          },
          "execution_count": 19
        }
      ]
    },
    {
      "cell_type": "code",
      "metadata": {
        "id": "OWI7sI2RGyE7",
        "colab_type": "code",
        "colab": {
          "base_uri": "https://localhost:8080/",
          "height": 89
        },
        "outputId": "ccd1f201-c1d5-4dfb-b647-ba8ef1ae1d5c"
      },
      "source": [
        "print(\"숫자형: 8진수와 16진수\")\n",
        "a = 0o177\n",
        "print(a)\n",
        "a = 0x8FF  # Hexadecimal : 16진수, 0 ~ F(15)\n",
        "print(a)\n",
        "a = 0xABC\n",
        "a"
      ],
      "execution_count": 21,
      "outputs": [
        {
          "output_type": "stream",
          "text": [
            "숫자형: 8진수와 16진수\n",
            "127\n",
            "2303\n"
          ],
          "name": "stdout"
        },
        {
          "output_type": "execute_result",
          "data": {
            "text/plain": [
              "2748"
            ]
          },
          "metadata": {
            "tags": []
          },
          "execution_count": 21
        }
      ]
    },
    {
      "cell_type": "markdown",
      "metadata": {
        "id": "5XFYhrZTIvnT",
        "colab_type": "text"
      },
      "source": [
        "### 숫자형: 연산자와 연산"
      ]
    },
    {
      "cell_type": "code",
      "metadata": {
        "id": "l_egLxMUHugD",
        "colab_type": "code",
        "colab": {
          "base_uri": "https://localhost:8080/",
          "height": 107
        },
        "outputId": "ff179d4a-764f-4416-9c20-d9e78381bba1"
      },
      "source": [
        "print(\"숫자형: 연산자와 연산\")\n",
        "a = 3\n",
        "b = 4\n",
        "print(a + b)\n",
        "print(a-b)\n",
        "print(a * b)\n",
        "print(a / b) # 나누기"
      ],
      "execution_count": 24,
      "outputs": [
        {
          "output_type": "stream",
          "text": [
            "숫자형: 연산자와 연산\n",
            "7\n",
            "-1\n",
            "12\n",
            "0.75\n"
          ],
          "name": "stdout"
        }
      ]
    },
    {
      "cell_type": "code",
      "metadata": {
        "id": "Q5i9Fr9kJf4x",
        "colab_type": "code",
        "colab": {
          "base_uri": "https://localhost:8080/",
          "height": 89
        },
        "outputId": "978a64b5-c4b0-45c4-e3db-1b26212eb4b1"
      },
      "source": [
        "print(a ** b) # 지수\n",
        "print(a % b) #a를 b나눠서 남는 나머지\n",
        "print(b % a)\n",
        "a // b #a를 b로 나눴을때 몫\n"
      ],
      "execution_count": 28,
      "outputs": [
        {
          "output_type": "stream",
          "text": [
            "81\n",
            "3\n",
            "1\n"
          ],
          "name": "stdout"
        },
        {
          "output_type": "execute_result",
          "data": {
            "text/plain": [
              "0"
            ]
          },
          "metadata": {
            "tags": []
          },
          "execution_count": 28
        }
      ]
    },
    {
      "cell_type": "code",
      "metadata": {
        "id": "3b0n4KxnJ-b5",
        "colab_type": "code",
        "colab": {
          "base_uri": "https://localhost:8080/",
          "height": 35
        },
        "outputId": "e17a3c0e-b3de-4047-9edf-306daea6160c"
      },
      "source": [
        "\n",
        "14 // 3 ,14 % 3\n"
      ],
      "execution_count": 32,
      "outputs": [
        {
          "output_type": "execute_result",
          "data": {
            "text/plain": [
              "(4, 2)"
            ]
          },
          "metadata": {
            "tags": []
          },
          "execution_count": 32
        }
      ]
    },
    {
      "cell_type": "markdown",
      "metadata": {
        "id": "WX6B98bmMv_L",
        "colab_type": "text"
      },
      "source": [
        "## 문자열 정의와 출력"
      ]
    },
    {
      "cell_type": "code",
      "metadata": {
        "id": "dRkzQjiyEnq7",
        "colab_type": "code",
        "colab": {
          "base_uri": "https://localhost:8080/",
          "height": 53
        },
        "outputId": "a9395097-43d2-4f66-96e2-50ebcc2cde48"
      },
      "source": [
        "# ch2_02_string.py\n",
        "# \"Life is too short, you need python\"\n",
        "# 'Life is too short, you need python'\n",
        "# \"\"\"Life is too short, you need python\"\"\" 두줄이상의 긴문자열에 사용\n",
        "# '''Life is too short, you need python''' 두줄이상의 긴문자열에 사용\n",
        "\n",
        "print(\"문자열: '\")\n",
        "food = \"Python's favorite food is perl\"\n",
        "food"
      ],
      "execution_count": 33,
      "outputs": [
        {
          "output_type": "stream",
          "text": [
            "문자열: '\n"
          ],
          "name": "stdout"
        },
        {
          "output_type": "execute_result",
          "data": {
            "text/plain": [
              "\"Python's favorite food is perl\""
            ]
          },
          "metadata": {
            "tags": []
          },
          "execution_count": 33
        }
      ]
    },
    {
      "cell_type": "code",
      "metadata": {
        "id": "6EN5P09uNYDo",
        "colab_type": "code",
        "colab": {
          "base_uri": "https://localhost:8080/",
          "height": 136
        },
        "outputId": "7ac00918-6992-4036-a2f7-b6af7bd095b1"
      },
      "source": [
        "food = 'Python's favorite food is perl'  # Error\n"
      ],
      "execution_count": 38,
      "outputs": [
        {
          "output_type": "error",
          "ename": "SyntaxError",
          "evalue": "ignored",
          "traceback": [
            "\u001b[0;36m  File \u001b[0;32m\"<ipython-input-38-f53082fb6fe1>\"\u001b[0;36m, line \u001b[0;32m1\u001b[0m\n\u001b[0;31m    food = 'Python's favorite food is perl'  # Error\u001b[0m\n\u001b[0m                   ^\u001b[0m\n\u001b[0;31mSyntaxError\u001b[0m\u001b[0;31m:\u001b[0m invalid syntax\n"
          ]
        }
      ]
    },
    {
      "cell_type": "code",
      "metadata": {
        "id": "01lMsA8TOrpz",
        "colab_type": "code",
        "colab": {
          "base_uri": "https://localhost:8080/",
          "height": 35
        },
        "outputId": "725a4d16-9ecb-4fd1-b072-4f517238a9f3"
      },
      "source": [
        "food = \"Python's favorite food is perl\"\n",
        "food"
      ],
      "execution_count": 39,
      "outputs": [
        {
          "output_type": "execute_result",
          "data": {
            "text/plain": [
              "\"Python's favorite food is perl\""
            ]
          },
          "metadata": {
            "tags": []
          },
          "execution_count": 39
        }
      ]
    },
    {
      "cell_type": "code",
      "metadata": {
        "id": "4fn0x1dOOASr",
        "colab_type": "code",
        "colab": {
          "base_uri": "https://localhost:8080/",
          "height": 35
        },
        "outputId": "8d015d5f-596d-46a2-9311-730b1e4e66bb"
      },
      "source": [
        "say = '\"Python is very easy.\" he says.'\n",
        "say"
      ],
      "execution_count": 40,
      "outputs": [
        {
          "output_type": "execute_result",
          "data": {
            "text/plain": [
              "'\"Python is very easy.\" he says.'"
            ]
          },
          "metadata": {
            "tags": []
          },
          "execution_count": 40
        }
      ]
    },
    {
      "cell_type": "code",
      "metadata": {
        "id": "yaBJWlbpPLoM",
        "colab_type": "code",
        "colab": {
          "base_uri": "https://localhost:8080/",
          "height": 89
        },
        "outputId": "24d19dd3-403a-4d28-c99d-6e9544e18888"
      },
      "source": [
        "print(\"문자열: \\ 이용\")\n",
        "food = 'Python\\'s favorite food is perl'\n",
        "say = \"\\\"Python is very easy.\\\" he says.\"\n",
        "print(food)\n",
        "print(say)\n",
        "say"
      ],
      "execution_count": 43,
      "outputs": [
        {
          "output_type": "stream",
          "text": [
            "문자열: \\ 이용\n",
            "Python's favorite food is perl\n",
            "\"Python is very easy.\" he says.\n"
          ],
          "name": "stdout"
        },
        {
          "output_type": "execute_result",
          "data": {
            "text/plain": [
              "'\"Python is very easy.\" he says.'"
            ]
          },
          "metadata": {
            "tags": []
          },
          "execution_count": 43
        }
      ]
    },
    {
      "cell_type": "markdown",
      "metadata": {
        "id": "PALoqiVMQZLa",
        "colab_type": "text"
      },
      "source": [
        "### 이스케이프 코드를 사용한 출력"
      ]
    },
    {
      "cell_type": "code",
      "metadata": {
        "id": "HhzTFvWMPeno",
        "colab_type": "code",
        "colab": {
          "base_uri": "https://localhost:8080/",
          "height": 71
        },
        "outputId": "ff90946b-96f9-4f80-a6fd-3ba8a29f7bb3"
      },
      "source": [
        "# 이스케이프 코드\n",
        "print(\"문자열: 이스케이프 코드 이용\")\n",
        "multiline = \"Life is too short\\nYou need python\"\n",
        "# multiline\n",
        "print(multiline)"
      ],
      "execution_count": 47,
      "outputs": [
        {
          "output_type": "stream",
          "text": [
            "문자열: 이스케이프 코드 이용\n",
            "Life is too short\n",
            "You need python\n"
          ],
          "name": "stdout"
        }
      ]
    },
    {
      "cell_type": "markdown",
      "metadata": {
        "id": "tnGJMgebRKmJ",
        "colab_type": "text"
      },
      "source": [
        "### 여러줄 문자열 처리\n",
        "- \"\"\"...\"\"\"\n",
        "- '''...'''"
      ]
    },
    {
      "cell_type": "code",
      "metadata": {
        "id": "yGq_A2F-Qs_j",
        "colab_type": "code",
        "colab": {
          "base_uri": "https://localhost:8080/",
          "height": 215
        },
        "outputId": "61285989-a45f-4fb3-8abe-12e89f0a18e6"
      },
      "source": [
        "# 여러줄 문자열 처리\n",
        "multiline = '''\n",
        "... Life is too short\n",
        "... You need python\n",
        "... '''\n",
        "multiline2 = \"\"\"\n",
        "안생은 짧고,\n",
        "파이썬은 필요하다.\n",
        "\"\"\"\n",
        "multiline3 = \"\"\"인생은 짧고,\n",
        "파이썬은 필요하다.\n",
        "\"\"\"# 줄바꾸기 자동으로 들어감\n",
        "print(multiline)\n",
        "print(multiline2)\n",
        "print(multiline3)"
      ],
      "execution_count": 53,
      "outputs": [
        {
          "output_type": "stream",
          "text": [
            "\n",
            "Life is too short\n",
            "You need python\n",
            "\n",
            "\n",
            "안생은 짧고,\n",
            "파이썬은 필요하다.\n",
            "\n",
            "인생은 짧고,\n",
            "파이썬은 필요하다.\n",
            "\n"
          ],
          "name": "stdout"
        }
      ]
    },
    {
      "cell_type": "markdown",
      "metadata": {
        "id": "GHs-CvLESmVi",
        "colab_type": "text"
      },
      "source": [
        "### 문자열 연산"
      ]
    },
    {
      "cell_type": "code",
      "metadata": {
        "id": "CcegWP8oRjvM",
        "colab_type": "code",
        "colab": {
          "base_uri": "https://localhost:8080/",
          "height": 53
        },
        "outputId": "6fc8fb88-5e49-4895-d6ba-731ad517c821"
      },
      "source": [
        "################################################\n",
        "print(\"문자열 연산: 더하기\")\n",
        "head = \"Python\"\n",
        "tail = \" is fun!\"\n",
        "head + tail"
      ],
      "execution_count": 54,
      "outputs": [
        {
          "output_type": "stream",
          "text": [
            "문자열 연산: 더하기\n"
          ],
          "name": "stdout"
        },
        {
          "output_type": "execute_result",
          "data": {
            "text/plain": [
              "'Python is fun!'"
            ]
          },
          "metadata": {
            "tags": []
          },
          "execution_count": 54
        }
      ]
    },
    {
      "cell_type": "code",
      "metadata": {
        "id": "HLPGPRR2TchB",
        "colab_type": "code",
        "colab": {
          "base_uri": "https://localhost:8080/",
          "height": 53
        },
        "outputId": "4fc2ec78-d512-46ac-f456-ed0b6ebd6a8b"
      },
      "source": [
        "print(\"문자열 연산: 곱하기\")\n",
        "a = \"python\"\n",
        "a * 2\n"
      ],
      "execution_count": 57,
      "outputs": [
        {
          "output_type": "stream",
          "text": [
            "문자열 연산: 곱하기\n"
          ],
          "name": "stdout"
        },
        {
          "output_type": "execute_result",
          "data": {
            "text/plain": [
              "'pythonpython'"
            ]
          },
          "metadata": {
            "tags": []
          },
          "execution_count": 57
        }
      ]
    },
    {
      "cell_type": "code",
      "metadata": {
        "id": "31l-ADeMTvme",
        "colab_type": "code",
        "colab": {}
      },
      "source": [
        "\n",
        "#####################################\n",
        "# multistring.py\n",
        "print(\"=\" * 50)\n",
        "print(\"I am now coding Python!\")\n",
        "print(\"*\" * 50)\n",
        "\n",
        "#####################################"
      ],
      "execution_count": 0,
      "outputs": []
    },
    {
      "cell_type": "code",
      "metadata": {
        "id": "sZWpoB5eTgYG",
        "colab_type": "code",
        "colab": {
          "base_uri": "https://localhost:8080/",
          "height": 53
        },
        "outputId": "d5ff54c5-878a-415a-91ee-46762600f7e7"
      },
      "source": [
        "# 내장함수: len()\n",
        "print(\"문자열 연산: 길이 구하기 - len()\")\n",
        "a = \"Life is too short.\"\n",
        "len(a)"
      ],
      "execution_count": 60,
      "outputs": [
        {
          "output_type": "stream",
          "text": [
            "문자열 연산: 길이 구하기 - len()\n"
          ],
          "name": "stdout"
        },
        {
          "output_type": "execute_result",
          "data": {
            "text/plain": [
              "18"
            ]
          },
          "metadata": {
            "tags": []
          },
          "execution_count": 60
        }
      ]
    },
    {
      "cell_type": "markdown",
      "metadata": {
        "id": "JCXUU7MpT7FA",
        "colab_type": "text"
      },
      "source": [
        "### 문자열 인뎃싱, 슬라이싱"
      ]
    },
    {
      "cell_type": "code",
      "metadata": {
        "id": "sEMcSUM8TiLe",
        "colab_type": "code",
        "colab": {
          "base_uri": "https://localhost:8080/",
          "height": 89
        },
        "outputId": "332d7c98-112c-41c7-fa03-89f995b85077"
      },
      "source": [
        "#####################################\n",
        "#\n",
        "# 문자열 인덱싱과 슬라이싱\n",
        "#\n",
        "#####################################\n",
        "print(\"문자열: 인덱싱이란?\")\n",
        "a = \"Life is too short, You need Python\"\n",
        "print(a[3])\n",
        "print(a[15])\n",
        "print(a[23])"
      ],
      "execution_count": 66,
      "outputs": [
        {
          "output_type": "stream",
          "text": [
            "문자열: 인덱싱이란?\n",
            "e\n",
            "r\n",
            "n\n"
          ],
          "name": "stdout"
        }
      ]
    },
    {
      "cell_type": "code",
      "metadata": {
        "id": "NbCeOjo8UIsF",
        "colab_type": "code",
        "colab": {
          "base_uri": "https://localhost:8080/",
          "height": 53
        },
        "outputId": "164d0d7d-545d-4221-db86-502a344ae465"
      },
      "source": [
        "# \"파이썬은 0부터 숫자를 센다.\"\n",
        "print(\"문자열: 인덱싱 활용\")\n",
        "\n",
        "a = \"Life is too short, You need Python\"\n",
        "# a[0]   # L\n",
        "\n",
        "# a[12]  # s\n",
        "\n",
        "# a[-1]  #n\n",
        "\n",
        "# # a[-0]\n",
        "a[-2] #o\n",
        "# a[-5]\n",
        "# a[-12]"
      ],
      "execution_count": 70,
      "outputs": [
        {
          "output_type": "stream",
          "text": [
            "문자열: 인덱싱 활용\n"
          ],
          "name": "stdout"
        },
        {
          "output_type": "execute_result",
          "data": {
            "text/plain": [
              "'o'"
            ]
          },
          "metadata": {
            "tags": []
          },
          "execution_count": 70
        }
      ]
    },
    {
      "cell_type": "code",
      "metadata": {
        "id": "6LmkZEfNVQP6",
        "colab_type": "code",
        "colab": {
          "base_uri": "https://localhost:8080/",
          "height": 53
        },
        "outputId": "67b563f3-3464-4cab-8dfc-008cd2bb4bb5"
      },
      "source": [
        "####################################\n",
        "print(\"문자열: 슬라이싱이란?\")\n",
        "a = \"Life is too short, You need Python\"\n",
        "# Life 를 뽑아낼려면 어떻게?\n",
        "b = a[0] + a[1] + a[2] + a[3]  # 문자열 뎌하기 연산 \"L\",\"i\"\n",
        "b"
      ],
      "execution_count": 71,
      "outputs": [
        {
          "output_type": "stream",
          "text": [
            "문자열: 슬라이싱이란?\n"
          ],
          "name": "stdout"
        },
        {
          "output_type": "execute_result",
          "data": {
            "text/plain": [
              "'Life'"
            ]
          },
          "metadata": {
            "tags": []
          },
          "execution_count": 71
        }
      ]
    },
    {
      "cell_type": "code",
      "metadata": {
        "id": "aH4j1TtUV1TV",
        "colab_type": "code",
        "colab": {
          "base_uri": "https://localhost:8080/",
          "height": 35
        },
        "outputId": "ddbfe311-0367-40f0-91ea-d07d5ee18a7f"
      },
      "source": [
        "# slicing (슬라이싱)\n",
        "a[0:4]  # 0 <= index < 4\n"
      ],
      "execution_count": 76,
      "outputs": [
        {
          "output_type": "execute_result",
          "data": {
            "text/plain": [
              "'Life'"
            ]
          },
          "metadata": {
            "tags": []
          },
          "execution_count": 76
        }
      ]
    },
    {
      "cell_type": "code",
      "metadata": {
        "id": "PRlIef40WNEl",
        "colab_type": "code",
        "colab": {
          "base_uri": "https://localhost:8080/",
          "height": 35
        },
        "outputId": "8dd16ccb-3929-4512-805f-4b9dbc6a0c11"
      },
      "source": [
        "\n",
        "a[0:5]\n",
        "print(a[5:7])\n",
        "print(a[12:17])"
      ],
      "execution_count": 78,
      "outputs": [
        {
          "output_type": "stream",
          "text": [
            "is\n"
          ],
          "name": "stdout"
        }
      ]
    },
    {
      "cell_type": "code",
      "metadata": {
        "id": "tXur87u-WwnL",
        "colab_type": "code",
        "colab": {
          "base_uri": "https://localhost:8080/",
          "height": 71
        },
        "outputId": "f51e6b6d-e57f-4789-e4a2-7ebb32b0bb96"
      },
      "source": [
        "# : 의 사용\n",
        "print(a[:4])  # 04전까지\n",
        "print(a[19:]) # 19부터 끝까지\n",
        "print(a[:17]) # 0부터17전까지"
      ],
      "execution_count": 79,
      "outputs": [
        {
          "output_type": "stream",
          "text": [
            "Life\n",
            "You need Python\n",
            "Life is too short\n"
          ],
          "name": "stdout"
        }
      ]
    },
    {
      "cell_type": "markdown",
      "metadata": {
        "id": "qWu5J8LJXZNY",
        "colab_type": "text"
      },
      "source": [
        "# 여기까지 배움."
      ]
    },
    {
      "cell_type": "code",
      "metadata": {
        "id": "_QthtOcnWeLC",
        "colab_type": "code",
        "colab": {}
      },
      "source": [
        "a[:]\n",
        "\n",
        "# a[19:-7] ?\n",
        "a[19:-7]\n",
        "\n",
        "print(\"문자열: 슬라이싱 응용?\")\n",
        "a = \"20190909Sunny\"\n",
        "date = a[:8]\n",
        "weather = a[8:]\n",
        "date\n",
        "weather\n",
        "\n",
        "a = \"20190917Rainy\"\n",
        "year = a[:4]\n",
        "day = a[4:8]\n",
        "weather = a[8:]\n",
        "year,day,weather\n",
        "\n",
        "# \"Pithon\"이라는 문자열을 \"Python\"으로 바꾸려면?\n",
        "a = \"Pithon\"\n",
        "a[1]\n",
        "a[1] = 'y'  # Error (immutable한 자료형)\n",
        "#################\n",
        "a = \"Pithon\"\n",
        "a[:1]\n",
        "a[2:]\n",
        "a[:1] + 'y' + a[2:]  # Python"
      ],
      "execution_count": 0,
      "outputs": []
    },
    {
      "cell_type": "code",
      "metadata": {
        "id": "0_aoWauTEjRR",
        "colab_type": "code",
        "colab": {}
      },
      "source": [
        "# ch2_03_string_formating.py\n",
        "\n",
        "print(\"문자열: 포매팅이란?\")\n",
        "# 1. 숫자 바로 대입\n",
        "\"I eat %d apples.\" % 3\n",
        "\n",
        "# 2. 문자열 바로 대입\n",
        "\"I eat %s apples.\" % \"five\"\n",
        "\n",
        "# 3. 숫자 값을 나타내는 변수로 대입\n",
        "number = 3\n",
        "\"I eat %d apples.\" % number\n",
        "\n",
        "# 4. 2개 이상의 값 넣기\n",
        "number = 10\n",
        "day = \"three\"\n",
        "\"I ate %d apples. so I was sick for %s days.\" % number  # , day   # Error\n",
        "\"I ate %d apples. so I was sick for %s days.\" % (number, day)\n",
        "# 소괄호 안에 콤마(,)로 구분하여 각각의 값을 넣어 준다.\n",
        "\n",
        "print(\"문자열: 포맷 코드\")\n",
        "# %d, %s, %c, %f, %o, %x, %%\n",
        "# %s, 묵시적 형변환\n",
        "\"I have %s apples\" % 3\n",
        "\"rate is %s\" % 3.234\n",
        "\n",
        "\"Error is %d%.\" % 98\n",
        "\"Error is %d%%.\" % 98\n",
        "\n",
        "###############################################-p60\n",
        "print(\"문자열: 포맷 코드와 숫자 함께 사용하기\")\n",
        "# 1. 정렬과 공백\n",
        "\"%10s\" % \"hi\"\n",
        "\"%-10sjane.\" % \"hi\"\n",
        "# 2. 소수점 표현하기\n",
        "\"%0.4f\" % 3.42134234\n",
        "\"%10.4f\" % 3.42134234\n",
        "\n",
        "print(\"문자열: format 함수를 사용한 포매팅\")\n",
        "# 1. 숫자 바로 대입하기\n",
        "\"I eat {0} apples\".format(3)\n",
        "\"I eat {0} {1} apples\".format(3, 4)\n",
        "\n",
        "# 2. 문자열 바로 대입하기\n",
        "\"I eat {0} apples\".format(\"five\")\n",
        "\"I eat {0} apples from {1} boxes\".format(\"five\", \"three\")\n",
        "\n",
        "# 3. 숫자 값을 가진 변수로 대입하기\n",
        "number = 3\n",
        "\"I eat {0} apples\".format(number)\n",
        "\"I eat {0} apples\".format(number + 1)\n",
        "\n",
        "# 2개 이상의 값 넣기\n",
        "number = 10\n",
        "day = \"three\"\n",
        "\"I ate {0} apples. so I was sick for {1} days.\".format(number, day)\n",
        "# 이름으로 넣기\n",
        "\"I ate {number} apples. so I was sick for {day} days.\".format(number=10, day=3)\n",
        "# 인덱스와 이름을 혼용해서 넣기\n",
        "\"I ate {0} apples. so I was sick for {day} days.\".format(10, day=3)\n",
        "#\n",
        "######################################\n",
        "# 왼쪽 정렬/ 오른쪽 정렬\n",
        "\"{0:<10}\".format(\"hi\")\n",
        "\"{0:>10}\".format(\"hi\")\n",
        "# 가운데 정렬\n",
        "\"{0:^10}\".format(\"hi\")\n",
        "# 공백 채우기\n",
        "\"{0:=^10}\".format(\"hi\")\n",
        "\"{0:!<10}\".format(\"hi\")\n",
        "# 도전하기\n",
        "# \"{0:<10}{1:>10}\".format(\"hi\",'hcit')\n",
        "\n",
        "#########################################\n",
        "\n",
        "# 소수점 표현하기\n",
        "y = 3.42134234\n",
        "\"{0:0.4f}\".format(y)\n",
        "\"{0:10.4f}\".format(y)\n",
        "# { 또는 } 문자 표현하기\n",
        "\"{{ and }}\".format()\n",
        "\n",
        "##########################\n",
        "##### f 문자열 포매팅 #####\n",
        "##### .format() 대체\n",
        "##########################\n",
        "print(\"문자열: f 문자열 포매팅\")\n",
        "name = \"홍길동\"\n",
        "age = 30\n",
        "f\"나의 이름은 {name}입니다. 나이는 {age}입니다.\"\n",
        "\n",
        "age = 30\n",
        "f\"나는 내년이면 {age+1}살이 된다.\"\n",
        "\n",
        "# 딕셔너리는 f 문자열 포매팅에서 다음과 같이 사용\n",
        "d = {\"name\": \"홍길동\", \"age\": 30}\n",
        "f'나의 이름은 {d[\"name\"]}입니다. 나이는 {d[\"age\"]}입니다.'\n",
        "# 정렬\n",
        "f'{\"hi\":<10}'  # 왼쪽 정렬\n",
        "f'{\"hi\":>10}'  # 오른쪽 정렬\n",
        "f'{\"hi\":^10}'  # 가운데 정렬\n",
        "# 공백 채우기\n",
        "y = 3.42134234\n",
        "f\"{y:0.4f}\"  # 소수점 4자리까지만 표현\n",
        "f\"{y:10.4f}\"  # 소수점 4자리까지 표현하고 총 자리수를 10으로 맞춤\n",
        "# { } 문자를 표시\n",
        "f\"{{ and }}\"\n",
        "\n",
        "##############################################\n",
        "print(\"문자열: 관련 내장 함수들\")\n",
        "# 문자 개수 세기(count)\n",
        "a = \"hobby\"\n",
        "a.count(\"b\")\n",
        "# 위치 알려주기1(find)\n",
        "a = \"Python is the best choice\"\n",
        "a.find(\"b\")\n",
        "a.find(\"k\")  # what value?\n",
        "# 위치 알려주기2(index)\n",
        "a = \"Life is too short\"\n",
        "a.index(\"t\")\n",
        "a.index(\"k\")\n",
        "\n",
        "# 문자열 삽입(join)\n",
        "\",\".join(\"abcd\")\n",
        "\",\".join([\"a\", \"b\", \"c\", \"d\"])\n",
        "# 소문자를 대문자로 바꾸기(upper)\n",
        "a = \"hi\"\n",
        "a.upper()\n",
        "# 대문자를 소문자로 바꾸기(lower)\n",
        "a = \"IoT\"\n",
        "a.lower()\n",
        "# 왼쪽 공백 지우기(lstrip)\n",
        "a = \" hi \"\n",
        "a.lstrip()\n",
        "# 오른쪽 공백 지우기(rstrip)\n",
        "a.rstrip()\n",
        "# 양쪽 공백 지우기(strip)\n",
        "a.strip()\n",
        "# 문자열 바꾸기(replace)\n",
        "a = \"Life is too short\"\n",
        "a.replace(\"Life\", \"Your leg\")\n",
        "\n",
        "# 문자열 나누기(split) -> 리스트로 변환하여 반환\n",
        "a = \"Life is too short\"\n",
        "a.split()\n",
        "b = \"a:b:c:d\"\n",
        "b.split(\":\")\n",
        "\n",
        "#### 도전하기 #####\n",
        "# format 함수 또는 f 문자열 포매팅을 이용해서 '!!!python!!!' 문자열을 출력해보시오.\n",
        "\"{0:!^12}\".format(\"python\")\n",
        "f'{\"python\":!^12}'\n"
      ],
      "execution_count": 0,
      "outputs": []
    }
  ]
}