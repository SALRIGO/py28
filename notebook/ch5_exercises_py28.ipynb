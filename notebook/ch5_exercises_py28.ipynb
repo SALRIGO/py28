{
  "nbformat": 4,
  "nbformat_minor": 0,
  "metadata": {
    "colab": {
      "name": "ch5_exercises_py28.ipynb",
      "provenance": [],
      "collapsed_sections": [],
      "include_colab_link": true
    },
    "kernelspec": {
      "name": "python3",
      "display_name": "Python 3"
    }
  },
  "cells": [
    {
      "cell_type": "markdown",
      "metadata": {
        "id": "view-in-github",
        "colab_type": "text"
      },
      "source": [
        "<a href=\"https://colab.research.google.com/github/SALRIGO/py28/blob/master/notebook/ch5_exercises_py28.ipynb\" target=\"_parent\"><img src=\"https://colab.research.google.com/assets/colab-badge.svg\" alt=\"Open In Colab\"/></a>"
      ]
    },
    {
      "cell_type": "markdown",
      "metadata": {
        "id": "ovY5jkD5dpxE",
        "colab_type": "text"
      },
      "source": [
        "## ch5_exercises.ipynb"
      ]
    },
    {
      "cell_type": "markdown",
      "metadata": {
        "id": "SZw6UnxQWYBe",
        "colab_type": "text"
      },
      "source": [
        "## Q1.\n",
        "> 다음은 Calculator 클래스이다.\n",
        "\n",
        "```\n",
        "class Calculator:\n",
        "    def __init__(self):\n",
        "        self.value = 0\n",
        "\n",
        "    def add(self, val):\n",
        "        self.value += val\n",
        "```\n",
        "---\n",
        "> 위 클래스를 상속하는 UpgradeCalculator를 만들고 값을 뺄 수 있는 minus 메서드를 추가해 보자. \n",
        ">> 즉 다음과 같이 동작하는 클래스를 만들어야 한다.\n",
        "```\n",
        "cal = UpgradeCalculator()\n",
        "cal.add(10)\n",
        "cal.minus(7)\n",
        "print(cal.value) # 10에서 7을 뺀 3을 출력\n",
        "```\n"
      ]
    },
    {
      "cell_type": "code",
      "metadata": {
        "id": "rUNNaqJPdg7B",
        "colab_type": "code",
        "outputId": "0f002f5d-c827-45bd-cb99-bf12874a9879",
        "colab": {
          "base_uri": "https://localhost:8080/",
          "height": 35
        }
      },
      "source": [
        "# [Q1] Code\n",
        "class Calculator:\n",
        "    def __init__(self):    # 클래스 초기화 \n",
        "        self.value = 0     # self의 값을 0으로 초기화\n",
        " \n",
        "    def add(self, val):    \n",
        "        self.value += val  # self.value에 받는 값을 누적하여 더함\n",
        "\n",
        "class UpgradeCalculator(Calculator):   # Calculator 클래스를 상속하는 클래스 UpgradeCalculator\n",
        "    def minus(self, val):\n",
        "        self.value -= val  # self.value에 받는 값을 누적하여 뻄\n",
        "\n",
        "cal = UpgradeCalculator()  # cal에  UpgradeCalculator 호출\n",
        "cal.add(10)                # add함수에 값을 10을 넣고 실행\n",
        "cal.minus(7)               # minus함수에 값을 7을 넣고 실행\n",
        "print(cal.value) # 10에서 7을 뺀 3을 출력"
      ],
      "execution_count": 0,
      "outputs": [
        {
          "output_type": "stream",
          "text": [
            "3\n"
          ],
          "name": "stdout"
        }
      ]
    },
    {
      "cell_type": "markdown",
      "metadata": {
        "colab_type": "text",
        "id": "re2-XrUYXF1m"
      },
      "source": [
        "## Q2.\n",
        "> 객체변수 value가 100 이상의 값은 가질 수 없도록 제한하는 MaxLimitCalculator 클래스를 만들어 보자. \n",
        ">> 즉 다음과 같이 동작해야 한다.\n",
        "```\n",
        "cal = MaxLimitCalculator()\n",
        "cal.add(50) # 50 더하기\n",
        "cal.add(60) # 60 더하기\n",
        "print(cal.value) # 100 출력\n",
        "```\n",
        ">> 단 반드시 다음과 같은 Calculator 클래스를 상속해서 만들어야 한다.\n",
        "```\n",
        "class Calculator:\n",
        "    def __init__(self):\n",
        "        self.value = 0\n",
        "    def add(self, val):\n",
        "        self.value += val\n",
        "```"
      ]
    },
    {
      "cell_type": "code",
      "metadata": {
        "colab_type": "code",
        "id": "5MBLUZ5WXF1q",
        "outputId": "9d601bf7-171c-4283-89a2-4acb3cdd4f26",
        "colab": {
          "base_uri": "https://localhost:8080/",
          "height": 53
        }
      },
      "source": [
        "# [Q2] Code\n",
        "class Calculator:\n",
        "    def __init__(self):        # 클래스 초기화\n",
        "        self.value = 0         # self의 값을 0으로 초기화\n",
        "    def add(self, val):\n",
        "        self.value += val      # self.value에 받는 값을 누적하여 더함\n",
        "\n",
        "class MaxLimitCalculator(Calculator):  # Calculator 클래스를 상속하는 클래스 MaxLimitCalculator\n",
        "    def add(self, val):       # 메서드 오버라이딩을 이용해 부모클래스의 동일한 이름의 함수를 재생성\n",
        "        self.value += val     # self.value에 받는 값을 누적하여 더함\n",
        "        if self.value > 100:  # 만일 self.value내의 값이 100\n",
        "          self.value = 100\n",
        "          print(\"최대 숫자는 100을 넘을 수 없습니다.\",)\n",
        "\n",
        "\n",
        "\n",
        "cal = MaxLimitCalculator()   # cal에  UpgradeCalculator 호출\n",
        "cal.add(50) # 50 더하기\n",
        "cal.add(60) # 60 더하기\n",
        "print(cal.value) # 100 출력"
      ],
      "execution_count": 0,
      "outputs": [
        {
          "output_type": "stream",
          "text": [
            "최대 숫자는 100을 넘을 수 없습니다.\n",
            "100\n"
          ],
          "name": "stdout"
        }
      ]
    },
    {
      "cell_type": "markdown",
      "metadata": {
        "colab_type": "text",
        "id": "UZy8lu_BXGnT"
      },
      "source": [
        "## Q3.\n",
        "> 다음 결과를 예측해 보자.\n",
        "\n",
        "- 하나.\n",
        "```\n",
        "all([1, 2, abs(-3)-3])\n",
        "```\n",
        "\n",
        "- 둘.\n",
        "```\n",
        "chr(ord('a')) == 'a'\n",
        "```"
      ]
    },
    {
      "cell_type": "code",
      "metadata": {
        "colab_type": "code",
        "id": "H9T_sXHzXGnW",
        "outputId": "3184792d-b2c9-42fb-a31f-76d484cb3b97",
        "colab": {
          "base_uri": "https://localhost:8080/",
          "height": 54
        }
      },
      "source": [
        "# [Q3] Code 하나\n",
        "print(abs(-3))\n",
        "all([1, 2, abs(-3)-3])\n",
        "# abs함수는 받은 숫자를 절댓값으로 돌려준다.\n",
        "# all 함수는 iterable 내의 모든 요소가 참(True)일 경우 True를\n",
        "# 모든요소 중 하나라도 거짓(False)일 경우 False를 출력하는데 위의 상황은 \n",
        "# abs함수로 -3의 정수인 3이 된 숫자가 리스트내에서 3-3으로 연산되고 그값으로 0이 되어 \n",
        "# 리스트 내에는 [1,2,0]이라는 숫자가 남게 되는데 파이썬은 숫자 0은 거짓(False)으로 취급\n",
        "# 하기 때문에 False가 출력된다."
      ],
      "execution_count": 0,
      "outputs": [
        {
          "output_type": "stream",
          "text": [
            "3\n"
          ],
          "name": "stdout"
        },
        {
          "output_type": "execute_result",
          "data": {
            "text/plain": [
              "False"
            ]
          },
          "metadata": {
            "tags": []
          },
          "execution_count": 45
        }
      ]
    },
    {
      "cell_type": "code",
      "metadata": {
        "id": "EOQNI2rlbfwB",
        "colab_type": "code",
        "outputId": "423558b0-241f-4f44-8a36-342cda08750b",
        "colab": {
          "base_uri": "https://localhost:8080/",
          "height": 72
        }
      },
      "source": [
        "# [Q3] Code 둘\n",
        "print(ord('a'))\n",
        "print(chr(97))\n",
        "chr(ord('a')) == 'a'\n",
        "# chr함수는 아스키코드 값을 받으면 그 값에 해당하는 문자 출력\n",
        "# ord함수는 받은 문자를 아스키코드로 출력\n",
        "# ord('a')에서 'a'를 아스키코드 97로 변환 해주고 chr(97)에서 다시 문자 'a'로 변환 해주기 때문에 참(True)가 출력 된다."
      ],
      "execution_count": 0,
      "outputs": [
        {
          "output_type": "stream",
          "text": [
            "97\n",
            "a\n"
          ],
          "name": "stdout"
        },
        {
          "output_type": "execute_result",
          "data": {
            "text/plain": [
              "True"
            ]
          },
          "metadata": {
            "tags": []
          },
          "execution_count": 35
        }
      ]
    },
    {
      "cell_type": "markdown",
      "metadata": {
        "colab_type": "text",
        "id": "fqypxxqTXHY7"
      },
      "source": [
        "## Q4.\n",
        "> filter와 lambda를 사용하여 리스트 [1, -2, 3, -5, 8, -3]에서 음수를 모두 제거해 보자."
      ]
    },
    {
      "cell_type": "code",
      "metadata": {
        "colab_type": "code",
        "id": "oQ5UnmayXHY-",
        "outputId": "126d8006-32cc-4bfd-8412-55a91794ce5a",
        "colab": {
          "base_uri": "https://localhost:8080/",
          "height": 35
        }
      },
      "source": [
        "# [Q4] Code\n",
        "numbers = [1, -2, 3 ,-5, 8, -3]\n",
        "list(filter(lambda num:num>0,numbers))\n",
        "\n",
        "# lambda 인자:표현식  의 형식으로 사용\n",
        "\n",
        "# filter 함수는 filter(함수명,[앞의 함수에 들어가는 반복가능자료형])의 형식으로 사용하며\n",
        "# 두 번째 인수인 자료형이 첫 번째 인수인 함수에 입력되었을 때 반환 값이 참인 것만 묶어서 반환"
      ],
      "execution_count": 0,
      "outputs": [
        {
          "output_type": "execute_result",
          "data": {
            "text/plain": [
              "[1, 3, 8]"
            ]
          },
          "metadata": {
            "tags": []
          },
          "execution_count": 58
        }
      ]
    },
    {
      "cell_type": "markdown",
      "metadata": {
        "colab_type": "text",
        "id": "NKsvciXZXIL-"
      },
      "source": [
        "## Q5.\n",
        "> 234라는 10진수의 16진수는 다음과 같이 구할 수 있다.\n",
        "```\n",
        "hex(234)\n",
        "'0xea'\n",
        "```\n",
        "> 이번에는 반대로 16진수 문자열 0xea를 10진수로 변경해 보자.\n",
        ">>※ 내장 함수 int를 활용해 보자.\n"
      ]
    },
    {
      "cell_type": "code",
      "metadata": {
        "colab_type": "code",
        "id": "5MZQYOVjXIL_",
        "outputId": "c6059457-a275-4820-ac9c-758d0b4de2b5",
        "colab": {
          "base_uri": "https://localhost:8080/",
          "height": 35
        }
      },
      "source": [
        "# [Q5] Code\n",
        "int('0xea',16) # int('16진수',16)은 16진수로 표현되어있는 값을\n",
        "               # 10진수로 변환 해준다."
      ],
      "execution_count": 0,
      "outputs": [
        {
          "output_type": "execute_result",
          "data": {
            "text/plain": [
              "234"
            ]
          },
          "metadata": {
            "tags": []
          },
          "execution_count": 67
        }
      ]
    },
    {
      "cell_type": "markdown",
      "metadata": {
        "colab_type": "text",
        "id": "-3KHtOOoXJBV"
      },
      "source": [
        "## Q6.\n",
        "> map과 lambda를 사용하여 [1, 2, 3, 4] 리스트의 각 요솟값에 3이 곱해진 리스트 [3, 6, 9, 12]를 만들어 보자.\n"
      ]
    },
    {
      "cell_type": "code",
      "metadata": {
        "colab_type": "code",
        "id": "AjYR0lUaXJBa",
        "outputId": "108a4be9-7b3e-45f3-b0cd-d1995aee50d6",
        "colab": {
          "base_uri": "https://localhost:8080/",
          "height": 35
        }
      },
      "source": [
        "# [Q6] Code\n",
        "numbers =  [1, 2, 3, 4]\n",
        "list(map(lambda x:x*3,numbers))\n",
        "# map(함수, 반복가능자료형)의 형식으로 사용하며\n",
        "# 입력받은 자료형의 각 요소를 함수가 수행한 결과를 묶어서 돌려줌"
      ],
      "execution_count": 0,
      "outputs": [
        {
          "output_type": "execute_result",
          "data": {
            "text/plain": [
              "[3, 6, 9, 12]"
            ]
          },
          "metadata": {
            "tags": []
          },
          "execution_count": 1
        }
      ]
    },
    {
      "cell_type": "markdown",
      "metadata": {
        "colab_type": "text",
        "id": "YrS3b88QbmKo"
      },
      "source": [
        "## Q7.\n",
        "> 다음 리스트의 최댓값과 최솟값의 합을 구해 보자.\n",
        ">> [-8, 2, 7, 5, -3, 5, 0, 1]"
      ]
    },
    {
      "cell_type": "code",
      "metadata": {
        "id": "flztvEGcMKvh",
        "colab_type": "code",
        "outputId": "49bc86a9-7ec1-4df0-e47d-2919fa9df52b",
        "colab": {
          "base_uri": "https://localhost:8080/",
          "height": 35
        }
      },
      "source": [
        "# [Q7] Code 01\n",
        "List = [-8, 2, 7, 5, -3, 5, 0, 1]\n",
        "max(List) + min(List)\n",
        "# max(반복가능자료형)의 형식으로 사용\n",
        "# 받은 자료형의 가장 큰 값을 돌려줌\n",
        "\n",
        "# min(반복가능자료형)의 형식으로 사용\n",
        "# 받은 자료형의 가장 작은 값을 돌려줌"
      ],
      "execution_count": 0,
      "outputs": [
        {
          "output_type": "execute_result",
          "data": {
            "text/plain": [
              "-1"
            ]
          },
          "metadata": {
            "tags": []
          },
          "execution_count": 19
        }
      ]
    },
    {
      "cell_type": "code",
      "metadata": {
        "colab_type": "code",
        "id": "Ll_2InMWbmKq",
        "outputId": "b36878fe-b0a8-4116-d241-e18660fb1fb0",
        "colab": {
          "base_uri": "https://localhost:8080/",
          "height": 89
        }
      },
      "source": [
        "# [Q7] Code 02 N번째로 큰값과 N번쨰로 작은 값을 더해주기 1\n",
        "List = [-8, 2, 7, 5, -3, 5, 0, 1]\n",
        "count = 0\n",
        "while count < 4:                 # count가 4 이하이면 반복\n",
        "  count += 1                     # while 문이 반복 할 때마다 count+1\n",
        "  print(max(List) + min(List))   # List내의 최대값과 최소값을 더한값을 출력\n",
        "  List.remove(max(List))         # List내의 최대값 제거\n",
        "  List.remove(min(List))         # List내의 최소값 제거"
      ],
      "execution_count": 0,
      "outputs": [
        {
          "output_type": "stream",
          "text": [
            "-1\n",
            "2\n",
            "5\n",
            "3\n"
          ],
          "name": "stdout"
        }
      ]
    },
    {
      "cell_type": "code",
      "metadata": {
        "id": "McXDKXVKO07A",
        "colab_type": "code",
        "outputId": "9073b736-d172-4aab-8eb5-f1d0dee0778b",
        "colab": {
          "base_uri": "https://localhost:8080/",
          "height": 89
        }
      },
      "source": [
        "# [Q7] Code 03 N번째로 큰값과 N번쨰로 작은 값을 더해주기 2\n",
        "List = [-8, 2, 7, 5, -3, 5, 0, 1] \n",
        "List.sort()                               # List내의 숫자 정렬\n",
        "maximum = 0\n",
        "least = 7\n",
        "\n",
        "while maximum < len(List)/2:             # maximum의 값이 len(List)/2 (4)의 값보다 작을 경우 반복 \n",
        "  print(List[maximum]+List[least])       # List내의 maximum(0+n)자리의 수와 least(7-n)자리의 수를 더한 값을 출력\n",
        "  maximum += 1                           # maximum의 값 1증가\n",
        "  least -= 1                             # least의 값 1감소"
      ],
      "execution_count": 0,
      "outputs": [
        {
          "output_type": "stream",
          "text": [
            "-1\n",
            "2\n",
            "5\n",
            "3\n"
          ],
          "name": "stdout"
        }
      ]
    },
    {
      "cell_type": "markdown",
      "metadata": {
        "colab_type": "text",
        "id": "OcSDHHYkK6lZ"
      },
      "source": [
        "## Q8.\n",
        "> 17 / 3의 결과는 다음과 같다.\n",
        "```\n",
        "17 / 3\n",
        "5.666666666666667\n",
        "```\n",
        "> 위와 같은 결괏값 5.666666666666667을 소숫점 4자리까지만 반올림하여 표시해 보자."
      ]
    },
    {
      "cell_type": "code",
      "metadata": {
        "colab_type": "code",
        "id": "GmaaVGqrK6le",
        "outputId": "3de54196-f056-4157-db9f-2a8d5f8bce28",
        "colab": {
          "base_uri": "https://localhost:8080/",
          "height": 35
        }
      },
      "source": [
        "# [Q8] Code 01 round 함수\n",
        "round(17/3,4)\n",
        "# round(임의의숫자, 소숫점자리])의 형식으로 사용\n",
        "# 숫자를 입력받아 원하는 소숫점에서 반올림 해줌"
      ],
      "execution_count": 0,
      "outputs": [
        {
          "output_type": "execute_result",
          "data": {
            "text/plain": [
              "5.6667"
            ]
          },
          "metadata": {
            "tags": []
          },
          "execution_count": 54
        }
      ]
    },
    {
      "cell_type": "code",
      "metadata": {
        "id": "V5a5j9JDcfMi",
        "colab_type": "code",
        "outputId": "4a561733-33c0-4147-c85a-a4ae23f89ae7",
        "colab": {
          "base_uri": "https://localhost:8080/",
          "height": 35
        }
      },
      "source": [
        "# [Q8] Code 02 문자열 포메팅\n",
        "num=17/3\n",
        "print(\"%.4f\"%num)"
      ],
      "execution_count": 0,
      "outputs": [
        {
          "output_type": "stream",
          "text": [
            "5.6667\n"
          ],
          "name": "stdout"
        }
      ]
    },
    {
      "cell_type": "markdown",
      "metadata": {
        "colab_type": "text",
        "id": "anwB_DjuK60j"
      },
      "source": [
        "## Q9.\n",
        "> 다음과 같이 실행할 때 입력값을 모두 더하여 출력하는 스크립트\n",
        "\n",
        "> (C:\\doit\\myargv.py)를 작성해 보자.\n",
        "```\n",
        "C:\\> cd doit\n",
        "C:\\doit> python myargv.py 1 2 3 4 5 6 7 8 9 10\n",
        "55\n",
        "```\n",
        ">> ※ 외장 함수 sys.argv를 사용해 보자."
      ]
    },
    {
      "cell_type": "code",
      "metadata": {
        "colab_type": "code",
        "id": "QJTNoSqtMrIM",
        "colab": {}
      },
      "source": [
        "# [Q9] Code1\n",
        "import sys\n",
        "numbers = sys.argv[1:]  # sys.argv[0]은 입력받은 값중에서 파이썬 프로그램의\n",
        "                        # 이름인 python_myargv.py 이기 때문에 제외 해준다.\n",
        "Sum = 0                 # Sum 값 초기화\n",
        "for number in numbers: \n",
        "    Sum += int(number)  # Sum에 number의 값들을 누적하여 더함\n",
        "print(\"입력하신 숫자의 합은 %d 입니다.\"%Sum)"
      ],
      "execution_count": 0,
      "outputs": []
    },
    {
      "cell_type": "code",
      "metadata": {
        "id": "J3WxdYo7xp01",
        "colab_type": "code",
        "colab": {
          "base_uri": "https://localhost:8080/",
          "height": 35
        },
        "outputId": "dc954f74-18a4-438a-baad-d7e0424d1999"
      },
      "source": [
        "run doit/python_myargv.py 1 2 3 4 5 6 7 8 9 10"
      ],
      "execution_count": 47,
      "outputs": [
        {
          "output_type": "stream",
          "text": [
            "입력하신 숫자의 합은 55 입니다.\n"
          ],
          "name": "stdout"
        }
      ]
    },
    {
      "cell_type": "code",
      "metadata": {
        "id": "7U-Vyalw7bQU",
        "colab_type": "code",
        "colab": {}
      },
      "source": [
        "# [Q9] Code2\n",
        "import sys\n",
        "menu = sys.argv[1]                   # menu = 첫번째로 입력 받는값\n",
        "numbers2 = sys.argv[2:]              # numbers2 = 두번째로 입력 받는값\n",
        "numbers2 = list(map(int, numbers2))  # numbers2리스트내의 문자를 정수형으로 바꾸어서\n",
        "                                     # 리스트로 만들어 numbers2에 저장\n",
        "if menu == 'sum':                    \n",
        "  result = sum(numbers2)             # menu가 'sum'일경우 numbers2리스트 내의 숫자 더하기\n",
        "\n",
        "print(\"입력하신 숫자의 합은 %d 입니다.\"%result)"
      ],
      "execution_count": 0,
      "outputs": []
    },
    {
      "cell_type": "code",
      "metadata": {
        "id": "fOKIi_aE8atV",
        "colab_type": "code",
        "colab": {
          "base_uri": "https://localhost:8080/",
          "height": 35
        },
        "outputId": "44f73e63-ae1b-4302-eb97-674826d6f863"
      },
      "source": [
        "run doit/python_myargv2.py sum 1 2 3 4 5 6 7 8 9 10"
      ],
      "execution_count": 46,
      "outputs": [
        {
          "output_type": "stream",
          "text": [
            "입력하신 숫자의 합은 55 입니다.\n"
          ],
          "name": "stdout"
        }
      ]
    },
    {
      "cell_type": "markdown",
      "metadata": {
        "colab_type": "text",
        "id": "PVA_-b0TK7Ai"
      },
      "source": [
        "## Q10.\n",
        "> os 모듈을 사용하여 다음과 같이 동작하도록 코드를 작성해 보자.\n",
        "\n",
        "1. ./doit 디렉터리로 이동한다.\n",
        "2. dir 명령을 실행하고 그 결과를 변수에 담는다.\n",
        "3. dir 명령의 결과를 출력한다."
      ]
    },
    {
      "cell_type": "code",
      "metadata": {
        "colab_type": "code",
        "id": "XCnUj3obMr3v",
        "colab": {
          "base_uri": "https://localhost:8080/",
          "height": 53
        },
        "outputId": "d98674c1-fdc6-4b23-d009-39e65a52edfa"
      },
      "source": [
        "# [Q10] Code\n",
        "import os\n",
        "\n",
        "os.chdir(\"/content/doit\")  # chdir을 사용하여 /content/doit 라는 디렉터리로 이동\n",
        "var = os.popen(\"dir\")   # popen을 사용하여 시스템 명령어인 dir명령을 실행후 그 결과를 변수에 담음\n",
        "print(var.read())       # 변수 출력"
      ],
      "execution_count": 62,
      "outputs": [
        {
          "output_type": "stream",
          "text": [
            "python_myargv2.py  python_myargv.py\n",
            "\n"
          ],
          "name": "stdout"
        }
      ]
    },
    {
      "cell_type": "markdown",
      "metadata": {
        "colab_type": "text",
        "id": "8xQf6xJ4K7M_"
      },
      "source": [
        "## Q11.\n",
        "> glob 모듈을 사용하여 ./doit 디렉터리의 파일 중 확장자가 .py인 파일만 출력하는 프로그램을 작성해 보자."
      ]
    },
    {
      "cell_type": "code",
      "metadata": {
        "colab_type": "code",
        "id": "UCO7aRh5Msx6",
        "colab": {
          "base_uri": "https://localhost:8080/",
          "height": 35
        },
        "outputId": "50938833-bd19-4fb8-9ab9-ed30cd13a705"
      },
      "source": [
        "# [Q11] Code\n",
        "import glob\n",
        "\n",
        "glob.glob(\"/content/doit/*.py\") # /content/doit/경로상의 py 파일 목록 확인"
      ],
      "execution_count": 66,
      "outputs": [
        {
          "output_type": "execute_result",
          "data": {
            "text/plain": [
              "['/content/doit/python_myargv.py', '/content/doit/python_myargv2.py']"
            ]
          },
          "metadata": {
            "tags": []
          },
          "execution_count": 66
        }
      ]
    },
    {
      "cell_type": "code",
      "metadata": {
        "id": "LcR22soDSEEd",
        "colab_type": "code",
        "colab": {
          "base_uri": "https://localhost:8080/",
          "height": 35
        },
        "outputId": "07621173-4996-42c0-a206-82e85ed61608"
      },
      "source": [
        "import glob\n",
        "\n",
        "glob.glob(\"*.py\") # py 파일 목록 확인"
      ],
      "execution_count": 69,
      "outputs": [
        {
          "output_type": "execute_result",
          "data": {
            "text/plain": [
              "['python_myargv.py', 'python_myargv2.py']"
            ]
          },
          "metadata": {
            "tags": []
          },
          "execution_count": 69
        }
      ]
    },
    {
      "cell_type": "markdown",
      "metadata": {
        "colab_type": "text",
        "id": "Q6QYCZ9HM3DW"
      },
      "source": [
        "## Q12.\n",
        "> time 모듈을 사용하여 현재 날짜와 시간을 다음과 같은 형식으로 출력해 보자.\n",
        "\n",
        "- 2018/04/03 17:20:32"
      ]
    },
    {
      "cell_type": "code",
      "metadata": {
        "colab_type": "code",
        "id": "80vm6aSMM3gf",
        "colab": {
          "base_uri": "https://localhost:8080/",
          "height": 35
        },
        "outputId": "ecca3166-9551-4e25-e0de-2b743ece2cc7"
      },
      "source": [
        "# [Q12] Code\n",
        "import time\n",
        "\n",
        "time.strftime(\"%Y/%m/%d %H:%M:%S\")\n",
        "# %Y 년도 출력\n",
        "# %m 월 출력\n",
        "# %d 일 출력\n",
        "# %H 시간 출력\n",
        "# %M 분 출력\n",
        "# %S 초 출력"
      ],
      "execution_count": 72,
      "outputs": [
        {
          "output_type": "execute_result",
          "data": {
            "text/plain": [
              "'2020/06/13 10:51:56'"
            ]
          },
          "metadata": {
            "tags": []
          },
          "execution_count": 72
        }
      ]
    },
    {
      "cell_type": "markdown",
      "metadata": {
        "colab_type": "text",
        "id": "x2IYgozSM3gd"
      },
      "source": [
        "## Q13.\n",
        "> random 모듈을 사용하여 로또 번호(1~45 사이의 숫자 6개)를 생성해 보자(단 중복된 숫자가 있으면 안 됨)."
      ]
    },
    {
      "cell_type": "code",
      "metadata": {
        "id": "1K7gDWG8Y60E",
        "colab_type": "code",
        "colab": {
          "base_uri": "https://localhost:8080/",
          "height": 35
        },
        "outputId": "0ad6fb08-e7b5-4549-f0eb-2dfa241bbafb"
      },
      "source": [
        "# [Q13] Code1\n",
        "import random\n",
        "lotto = []                         # lotto 리스트 생성\n",
        "\n",
        "while len(lotto) < 6:              # len(lotto)가 6 보다 작으면 반복\n",
        "   numbers = random.randint(1, 45) # 1~45의 숫자중 하나를 반환\n",
        "   if numbers not in lotto:        # 반환한 숫자가 리스트 lotto에 포함되지 않을 경우\n",
        "       lotto.append(numbers)       # 반환한 숫자를 리스트 lotto에 추가\n",
        "       print(numbers, end=' ')     # 반환한 숫자 출력"
      ],
      "execution_count": 194,
      "outputs": [
        {
          "output_type": "stream",
          "text": [
            "19 17 44 13 34 33 "
          ],
          "name": "stdout"
        }
      ]
    },
    {
      "cell_type": "code",
      "metadata": {
        "colab_type": "code",
        "id": "FiKNOu9HM3DX",
        "colab": {
          "base_uri": "https://localhost:8080/",
          "height": 35
        },
        "outputId": "5da01367-f8fd-4f87-8c8f-52498870e33e"
      },
      "source": [
        "# [Q13] Code2\n",
        "import random\n",
        "def random_pop(data):\n",
        "    number = random.randint(0, len(data)-1)  # 0에서 len(data)-1 까지의 숫자중 하나 반환\n",
        "    return data.pop(number)                  # 반환된 숫자 위치에있는 data리스트의 숫자를 꺼내서 반환\n",
        "count = 0                                    # count 초기화\n",
        "\n",
        "if __name__ == \"__main__\":\n",
        "    data = list(range(1,46))                 # data에 1부터45까지의 숫자 리스트 생성\n",
        "    while count < 6:                         # 6번 반복\n",
        "       count += 1\n",
        "       print(random_pop(data), end=\" \")      # 반환된 숫자 출력"
      ],
      "execution_count": 184,
      "outputs": [
        {
          "output_type": "stream",
          "text": [
            "29 20 31 45 16 32 "
          ],
          "name": "stdout"
        }
      ]
    },
    {
      "cell_type": "code",
      "metadata": {
        "id": "laR49npQbxD7",
        "colab_type": "code",
        "colab": {
          "base_uri": "https://localhost:8080/",
          "height": 35
        },
        "outputId": "fb798617-b2a4-4cc8-a234-6d6f709c55b3"
      },
      "source": [
        "# [Q13] Code3 choice 이용\n",
        "def random_pop(data):\n",
        "    number = random.choice(data)  # data리스트중 랜덤한 숫자 반환\n",
        "    data.remove(number)           # 위의 반환된 number을 data리스트에서 제거\n",
        "    return number                 # number 반환\n",
        "count = 0                         # count 초기화\n",
        "\n",
        "if __name__ == \"__main__\":\n",
        "    data = list(range(1,46))      # data에 1부터45까지의 숫자 리스트 생성\n",
        "    while count < 6:              # 6번 반복\n",
        "       count += 1\n",
        "       print(random_pop(data), end=\" \") # 반환된 숫자 출력"
      ],
      "execution_count": 165,
      "outputs": [
        {
          "output_type": "stream",
          "text": [
            "37 39 45 34 33 28 "
          ],
          "name": "stdout"
        }
      ]
    },
    {
      "cell_type": "code",
      "metadata": {
        "id": "XlfLmn-kgjdt",
        "colab_type": "code",
        "colab": {}
      },
      "source": [
        ""
      ],
      "execution_count": 0,
      "outputs": []
    },
    {
      "cell_type": "markdown",
      "metadata": {
        "id": "2ljBDShkbqZO",
        "colab_type": "text"
      },
      "source": [
        "## 코딩 연습 결과를 github에 올리기\n",
        "> 완성된 ipython 노트북 파일을 각자의 github에 올리시오.\n",
        "\n",
        "- github 계정 만들기 (계정이 없는 학생)\n",
        "    1. github에 sign up (Google gmail 계정을 이용해서 만드시오.)\n",
        "- github에 노트 올리기\n",
        "    2. github에 각자의 id로 repo를 만드시오. (한번 만들면 계속 재사용)\n",
        "    3. github repo에 연습결과 노트를 올리시오.\n",
        "        - 제출노트: ch5_exercises_id.ipynb\n"
      ]
    },
    {
      "cell_type": "code",
      "metadata": {
        "id": "OnCR-YNCc8B6",
        "colab_type": "code",
        "colab": {}
      },
      "source": [
        ""
      ],
      "execution_count": 0,
      "outputs": []
    }
  ]
}